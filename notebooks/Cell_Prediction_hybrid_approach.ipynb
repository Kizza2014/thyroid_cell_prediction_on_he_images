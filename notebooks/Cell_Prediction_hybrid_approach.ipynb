{
  "nbformat": 4,
  "nbformat_minor": 0,
  "metadata": {
    "colab": {
      "provenance": [],
      "collapsed_sections": [
        "uiC-Pa4LKU-E",
        "VNPPkhrcBT2m",
        "3XgC8xBBYixb",
        "S6bFzpfkYmLT"
      ],
      "include_colab_link": true
    },
    "kernelspec": {
      "name": "python3",
      "display_name": "Python 3"
    },
    "language_info": {
      "name": "python"
    }
  },
  "cells": [
    {
      "cell_type": "markdown",
      "metadata": {
        "id": "view-in-github",
        "colab_type": "text"
      },
      "source": [
        "<a href=\"https://colab.research.google.com/github/Kizza2014/thyroid_cell_prediction_on_he_images/blob/main/notebooks/Cell_Prediction_hybrid_approach.ipynb\" target=\"_parent\"><img src=\"https://colab.research.google.com/assets/colab-badge.svg\" alt=\"Open In Colab\"/></a>"
      ]
    },
    {
      "cell_type": "code",
      "source": [
        "from google.colab import drive\n",
        "drive.mount('/content/drive')"
      ],
      "metadata": {
        "colab": {
          "base_uri": "https://localhost:8080/"
        },
        "id": "8sHvzbpZxhkm",
        "outputId": "445762c9-f78e-4131-fd36-34be7c1198a7"
      },
      "execution_count": 1,
      "outputs": [
        {
          "output_type": "stream",
          "name": "stdout",
          "text": [
            "Mounted at /content/drive\n"
          ]
        }
      ]
    },
    {
      "cell_type": "code",
      "source": [
        "!unzip -q /content/drive/MyDrive/data/cell_prediction/image_with_points.zip -d /content/"
      ],
      "metadata": {
        "collapsed": true,
        "id": "ZAJfevFgyNFG"
      },
      "execution_count": 2,
      "outputs": []
    },
    {
      "cell_type": "markdown",
      "source": [
        "# A. Đặc trưng 1: Nhân hình oval,..."
      ],
      "metadata": {
        "id": "uiC-Pa4LKU-E"
      }
    },
    {
      "cell_type": "markdown",
      "source": [
        "##### Helper function để trích xuất đặc trưng:"
      ],
      "metadata": {
        "id": "NX05GXMZKPZb"
      }
    },
    {
      "cell_type": "code",
      "source": [
        "# helper functions\n",
        "from typing import List, Tuple\n",
        "from shapely.geometry import Polygon, LineString\n",
        "import math\n",
        "\n",
        "def geo_area(cells_list: List[Polygon]) -> List[float]:\n",
        "    areas = []\n",
        "    for i in range(0, len(cells_list)):\n",
        "        areas.append(cells_list[i].area)\n",
        "    return areas\n",
        "\n",
        "def geo_solidity(cells_list: List[Polygon]) -> List[float]:\n",
        "    solidit = []\n",
        "    for i in range(0, len(cells_list)):\n",
        "        solidit.append((cells_list[i].area) / ((cells_list[i].convex_hull).area))\n",
        "\n",
        "    return solidit\n",
        "\n",
        "def geo_eccentricity(cells_list: List[Polygon]) -> List[float]:\n",
        "    eccentr = []\n",
        "    for i in range(0, len(cells_list)):\n",
        "        points = list(zip(*cells_list[i].minimum_rotated_rectangle.exterior.coords.xy))\n",
        "        lengths = [\n",
        "            LineString((points[j], points[j + 1])).length\n",
        "            for j in range(len(points) - 1)\n",
        "        ]\n",
        "\n",
        "        # get major/minor axis measurements\n",
        "        min_axis = min(lengths)\n",
        "        max_axis = max(lengths)\n",
        "        a = max_axis / 2\n",
        "        b = min_axis / 2\n",
        "\n",
        "        eccentr.append(np.sqrt(np.square(a) - np.square(b)) / a)\n",
        "\n",
        "    return eccentr\n",
        "\n",
        "def geo_rotation(cells_list: List[Polygon]) -> List[float]:\n",
        "    rot_ang = []\n",
        "    for i in range(0, len(cells_list)):\n",
        "\n",
        "        rect = np.array(cells_list[i].minimum_rotated_rectangle.exterior.coords)\n",
        "        edges = []\n",
        "        for d in np.diff(rect, axis=0):\n",
        "            length = np.sqrt(d[0] ** 2 + d[1] ** 2)\n",
        "            angle = np.arctan2(d[1], d[0])\n",
        "            edges.append([length, angle])\n",
        "\n",
        "        edges = np.array(edges)\n",
        "        angle_value = edges[np.argmax(edges[:, 0])][1]\n",
        "        # Check if the angle is between -pi/2 and pi/2\n",
        "        if angle_value > np.pi / 2:\n",
        "            angle_value -= np.pi\n",
        "        elif angle_value < -np.pi / 2:\n",
        "            angle_value += np.pi\n",
        "        rot_ang.append(angle_value)\n",
        "\n",
        "    return rot_ang\n",
        "\n",
        "def geo_axis(cells_list: List[Polygon]) -> Tuple[List[float], List[float], List[float]]:\n",
        "    minor_axis = []\n",
        "    major_axis = []\n",
        "    aspect_ratio = []\n",
        "    for i in range(0, len(cells_list)):\n",
        "        mbr_points = list(\n",
        "            zip(*cells_list[i].minimum_rotated_rectangle.exterior.coords.xy)\n",
        "        )\n",
        "\n",
        "        # calculate the length of each side of the minimum bounding rectangle\n",
        "        mbr_lengths = [\n",
        "            LineString((mbr_points[i], mbr_points[i + 1])).length\n",
        "            for i in range(len(mbr_points) - 1)\n",
        "        ]\n",
        "\n",
        "        # get major/minor axis measurements\n",
        "        minor_axis.append(min(mbr_lengths))\n",
        "        major_axis.append(max(mbr_lengths))\n",
        "        aspect_ratio.append(max(mbr_lengths) / min(mbr_lengths))\n",
        "\n",
        "    return minor_axis, major_axis, aspect_ratio\n",
        "\n",
        "def geo_roundness(cells_list: List[Polygon]) -> List[float]:\n",
        "    roundness = []\n",
        "    for i in range(0, len(cells_list)):\n",
        "        mbr_points = list(\n",
        "            zip(*cells_list[i].minimum_rotated_rectangle.exterior.coords.xy)\n",
        "        )\n",
        "        # calculate the length of each side of the minimum bounding rectangle\n",
        "        mbr_lengths = [\n",
        "            LineString((mbr_points[i], mbr_points[i + 1])).length\n",
        "            for i in range(len(mbr_points) - 1)\n",
        "        ]\n",
        "        # get major/minor axis measurements\n",
        "        major_axis = max(mbr_lengths)\n",
        "        roundness.append(4 * (cells_list[i].area / (math.pi * (major_axis**2))))\n",
        "\n",
        "    return roundness\n",
        "\n",
        "def geo_perimeter(cells_list: List[Polygon]) -> List[float]:\n",
        "    perimeter = []\n",
        "    for i in range(0, len(cells_list)):\n",
        "        perimeter.append(cells_list[i].length)\n",
        "\n",
        "    return perimeter\n",
        "\n",
        "def geoSferVolume(cells_list: List[Polygon]) -> List[float]:\n",
        "    volume=[]\n",
        "    for i in range(0,len(cells_list)):\n",
        "        areas=cells_list[i].area\n",
        "        radius = math.sqrt(areas / (4 * math.pi))\n",
        "        V=(4/3)*math.pi * (radius ** 3)\n",
        "        volume.append(V)\n",
        "    return volume\n",
        "\n",
        "def geoEllisVolume(cells_list: List[Polygon]) -> List[float]:\n",
        "    volume=[]\n",
        "    minor_axis,major_axis,aspect_ratio=geo_axis(cells_list)\n",
        "    for i in range(0,(len(minor_axis))):\n",
        "        V= (4/3) * math.pi * ((minor_axis[i]/2) ** 2) * major_axis[i]/2\n",
        "        volume.append(V)\n",
        "    return volume"
      ],
      "metadata": {
        "id": "RtyHm2Hnm7Bf"
      },
      "execution_count": null,
      "outputs": []
    },
    {
      "cell_type": "markdown",
      "source": [
        "##### Bắt đầu trích xuất đặc trưng:"
      ],
      "metadata": {
        "id": "yW-qvlXOKcL_"
      }
    },
    {
      "cell_type": "code",
      "source": [
        "import cv2\n",
        "import numpy as np\n",
        "import pandas as pd\n",
        "import os\n",
        "from google.colab.patches import cv2_imshow\n",
        "import json\n",
        "from shapely.geometry import Polygon\n",
        "\n",
        "EXTRACT_FOLDER = \"/content/image_with_points\"\n",
        "\n",
        "# Thư mục chứa ảnh cần xử lý\n",
        "IMAGE_FOLDER = EXTRACT_FOLDER\n",
        "ANNOTATION_PATH = EXTRACT_FOLDER + '/' + 'labels.json'\n",
        "OUTPUT_CSV = \"/content/cell_features.csv\"\n",
        "\n",
        "# Hàm trích xuất đặc trưng hình dạng chỉ với contour bên ngoài nhân\n",
        "def extract_shape_features(image_path, polygon):\n",
        "  features = []\n",
        "  polygon = Polygon(polygon)\n",
        "  area = geo_area([polygon])[0]\n",
        "  solidity = geo_solidity([polygon])[0]\n",
        "  eccentricity = geo_eccentricity([polygon])[0]\n",
        "  rotation = geo_rotation([polygon])[0]\n",
        "  axis = geo_axis([polygon])\n",
        "  minor_axis = axis[0][0]\n",
        "  major_axis = axis[1][0]\n",
        "  aspect_ratio = axis[2][0]\n",
        "  roundness = geo_roundness([polygon])[0]\n",
        "  perimeter = geo_perimeter([polygon])[0]\n",
        "  ellisvolume = geoEllisVolume([polygon])[0]\n",
        "\n",
        "\n",
        "  features.append({\n",
        "      \"File\": os.path.basename(image_path),\n",
        "      'area': area,\n",
        "      'perimeter': perimeter,\n",
        "      'aspect_ratio': aspect_ratio,\n",
        "      'roundness': roundness,\n",
        "      'eccentricity': eccentricity,\n",
        "      'minor_axis': minor_axis,\n",
        "      'major_axis': major_axis,\n",
        "      'solidity': solidity,\n",
        "      'ellisvolume':ellisvolume,\n",
        "      'rotation': rotation\n",
        "  })\n",
        "  return features\n",
        "\n",
        "# Lặp qua toàn bộ ảnh trong thư mục\n",
        "all_features = []\n",
        "with open(os.path.join(IMAGE_FOLDER, 'labels.json'), 'r') as f:\n",
        "  labels = json.load(f)\n",
        "  for filename in os.listdir(IMAGE_FOLDER):\n",
        "      if filename.endswith(('.jpg', '.png', '.jpeg')):\n",
        "          image_path = os.path.join(IMAGE_FOLDER, filename)\n",
        "          polygon = labels[filename[:-4]]['polygon']\n",
        "          all_features.extend(extract_shape_features(image_path, polygon))\n",
        "\n",
        "# Lưu kết quả vào CSV\n",
        "df_features = pd.DataFrame(all_features)\n",
        "df_features.to_csv(OUTPUT_CSV, index=False)\n",
        "print(f\"Đã lưu đặc trưng vào {OUTPUT_CSV}\")"
      ],
      "metadata": {
        "colab": {
          "base_uri": "https://localhost:8080/"
        },
        "id": "9_TyAYkxs2zv",
        "outputId": "09e9a3cd-f2e8-42ae-f3d3-0c07389fda7c"
      },
      "execution_count": null,
      "outputs": [
        {
          "output_type": "stream",
          "name": "stdout",
          "text": [
            "Đã lưu đặc trưng vào /content/cell_features.csv\n"
          ]
        }
      ]
    },
    {
      "cell_type": "markdown",
      "source": [
        "#### Chuẩn bị dữ liệu huấn luyện:"
      ],
      "metadata": {
        "id": "s-gbfjXvc0ft"
      }
    },
    {
      "cell_type": "code",
      "source": [
        "import pandas as pd\n",
        "import json\n",
        "from sklearn.model_selection import train_test_split\n",
        "\n",
        "FEATURES_CSV = \"/content/cell_features.csv\"  # Thay thế bằng đường dẫn thực tế\n",
        "LABELS_JSON = \"/content/image_with_points/labels.json\"  # Thay thế bằng đường dẫn thực tế\n",
        "\n",
        "df_features = pd.read_csv(FEATURES_CSV)\n",
        "\n",
        "# Đọc file JSON chứa nhãn\n",
        "with open(LABELS_JSON, 'r') as f:\n",
        "    labels_data = json.load(f)\n",
        "\n",
        "# Tạo dictionary từ JSON để ánh xạ tên file với nhãn (loại bỏ đuôi file .jpg, .png, ...)\n",
        "labels_dict = {os.path.splitext(str(key))[0]: int(value['label'][0]) for key, value in labels_data.items()}  # Lấy đặc trưng đầu tiên\n",
        "\n",
        "# Thêm nhãn vào DataFrame (loại bỏ đuôi file trước khi ánh xạ)\n",
        "df_features[\"File_Name\"] = df_features[\"File\"].apply(lambda x: os.path.splitext(x)[0])\n",
        "df_features[\"Label\"] = df_features[\"File_Name\"].map(labels_dict)\n",
        "df_features.drop(columns=[\"File_Name\"], inplace=True)  # Xóa cột tạm thời\n",
        "\n",
        "df_features.dropna(inplace=True)  # Loại bỏ hàng thiếu nhãn\n",
        "df_features.to_csv(FEATURES_CSV, index=False)  # Lưu lại file với nhãn"
      ],
      "metadata": {
        "id": "1MWBA4AIc0Ip"
      },
      "execution_count": null,
      "outputs": []
    },
    {
      "cell_type": "markdown",
      "source": [
        "#### a. Logistics regression"
      ],
      "metadata": {
        "id": "0uEyE4eyKmu6"
      }
    },
    {
      "cell_type": "code",
      "source": [
        "from sklearn.linear_model import LogisticRegression\n",
        "from sklearn.metrics import accuracy_score, confusion_matrix\n",
        "\n",
        "# Chuẩn bị dữ liệu đầu vào\n",
        "X_logistics = df_features.drop(['File', 'Label'], axis=1)\n",
        "y_logistics = df_features[\"Label\"].astype(int)\n",
        "X_train, X_test, y_train, y_test = train_test_split(X, y, test_size=0.2, random_state=42)\n",
        "\n",
        "# Huấn luyện mô hình Logistic Regression\n",
        "model = LogisticRegression()\n",
        "model.fit(X_train, y_train)\n",
        "y_pred = model.predict(X_test)\n",
        "\n",
        "# Đánh giá mô hình\n",
        "accuracy = accuracy_score(y_test, y_pred)\n",
        "conf_matrix = confusion_matrix(y_test, y_pred)\n",
        "print(f\"Độ chính xác của mô hình: {accuracy:.4f}\")\n",
        "print(\"Ma trận nhầm lẫn:\")\n",
        "print(conf_matrix)\n",
        "\n",
        "# Phân tích lỗi\n",
        "true_negatives = conf_matrix[0, 0]  # Nhãn 0 được dự đoán đúng\n",
        "true_positives = conf_matrix[1, 1]  # Nhãn 1 được dự đoán đúng\n",
        "false_negatives = conf_matrix[1, 0]  # Nhãn 1 bị dự đoán thành 0\n",
        "false_positives = conf_matrix[0, 1]  # Nhãn 0 bị dự đoán thành 1\n",
        "\n",
        "print(f\"Số lượng nhãn 0 được dự đoán đúng: {true_negatives}\")\n",
        "print(f\"Số lượng nhãn 1 được dự đoán đúng: {true_positives}\")\n",
        "print(f\"Số lượng nhãn 0 bị dự đoán sai thành 1: {false_positives}\")\n",
        "print(f\"Số lượng nhãn 1 bị dự đoán sai thành 0: {false_negatives}\")\n",
        "\n",
        "# Xuất trọng số dự đoán\n",
        "weights = model.coef_[0]\n",
        "feature_names = X.columns\n",
        "weights_df = pd.DataFrame({\"Feature\": feature_names, \"Weight\": weights})\n",
        "weights_df.to_csv(\"model_weights.csv\", index=False)\n",
        "print(\"Trọng số của mô hình đã được lưu vào model_weights.csv\")"
      ],
      "metadata": {
        "colab": {
          "base_uri": "https://localhost:8080/"
        },
        "id": "0LqFZAF_RkMy",
        "outputId": "cb4e868c-2878-4105-865d-ddf26876ce1f"
      },
      "execution_count": null,
      "outputs": [
        {
          "output_type": "stream",
          "name": "stdout",
          "text": [
            "Độ chính xác của mô hình: 0.6527\n",
            "Ma trận nhầm lẫn:\n",
            "[[  9 232]\n",
            " [  9 444]]\n",
            "Số lượng nhãn 0 được dự đoán đúng: 9\n",
            "Số lượng nhãn 1 được dự đoán đúng: 444\n",
            "Số lượng nhãn 0 bị dự đoán sai thành 1: 232\n",
            "Số lượng nhãn 1 bị dự đoán sai thành 0: 9\n",
            "Trọng số của mô hình đã được lưu vào model_weights.csv\n"
          ]
        },
        {
          "output_type": "stream",
          "name": "stderr",
          "text": [
            "/usr/local/lib/python3.11/dist-packages/sklearn/linear_model/_logistic.py:465: ConvergenceWarning: lbfgs failed to converge (status=1):\n",
            "STOP: TOTAL NO. of ITERATIONS REACHED LIMIT.\n",
            "\n",
            "Increase the number of iterations (max_iter) or scale the data as shown in:\n",
            "    https://scikit-learn.org/stable/modules/preprocessing.html\n",
            "Please also refer to the documentation for alternative solver options:\n",
            "    https://scikit-learn.org/stable/modules/linear_model.html#logistic-regression\n",
            "  n_iter_i = _check_optimize_result(\n"
          ]
        }
      ]
    },
    {
      "cell_type": "markdown",
      "source": [
        "### b. XGBoost, Catboost"
      ],
      "metadata": {
        "id": "Toeo25v7KtH5"
      }
    },
    {
      "cell_type": "code",
      "source": [
        "!pip -q install catboost"
      ],
      "metadata": {
        "collapsed": true,
        "id": "n8rT-bncGq8L"
      },
      "execution_count": null,
      "outputs": []
    },
    {
      "cell_type": "code",
      "source": [
        "import pandas as pd\n",
        "import numpy as np\n",
        "from sklearn.model_selection import train_test_split\n",
        "from sklearn.preprocessing import StandardScaler, RobustScaler\n",
        "from xgboost import XGBClassifier\n",
        "from lightgbm import LGBMClassifier\n",
        "from catboost import CatBoostClassifier\n",
        "from sklearn.metrics import accuracy_score, classification_report\n",
        "\n",
        "# Đọc dữ liệu từ file Excel\n",
        "file_path = \"/content/cell_features.csv\"\n",
        "df = pd.read_csv(file_path)\n",
        "\n",
        "# Chuẩn hóa dữ liệu\n",
        "scaler = StandardScaler()\n",
        "# scaler = RobustScaler()\n",
        "X = df_features.drop(['File', 'Label'], axis=1)\n",
        "y = df_features['Label'].astype(int)\n",
        "X_scaled = scaler.fit_transform(X)\n",
        "\n",
        "# Chia tập train (80%) và test (20%)\n",
        "X_train, X_test, y_train, y_test = train_test_split(X_scaled, y, test_size=0.4, random_state=42, stratify=y)\n",
        "\n",
        "\n",
        "# Huấn luyện các mô hình mạnh hơn\n",
        "\n",
        "# Model 1: XGBoost\n",
        "xgb_model = XGBClassifier(n_estimators=2000, learning_rate=0.05, random_state=42, verbose=0)\n",
        "xgb_model.fit(X_train, y_train)\n",
        "xgb_preds = xgb_model.predict(X_test)\n",
        "\n",
        "# Model 2: LightGBM\n",
        "lgbm_model = LGBMClassifier(n_estimators=2000, learning_rate=0.01, random_state=42, verbose=0)\n",
        "lgbm_model.fit(X_train, y_train)\n",
        "lgbm_preds = lgbm_model.predict(X_test)\n",
        "\n",
        "# Model 3: CatBoost (Không cần chuẩn hóa dữ liệu)\n",
        "cat_model = CatBoostClassifier(iterations=2000, learning_rate=0.01, depth=6, random_seed=42, verbose=0)\n",
        "cat_model.fit(X_train, y_train)\n",
        "cat_preds = cat_model.predict(X_test)\n",
        "\n",
        "# Đánh giá mô hình\n",
        "print(\"XGBoost Accuracy:\", accuracy_score(y_test, xgb_preds))\n",
        "print(classification_report(y_test, xgb_preds))\n",
        "\n",
        "print(\"LightGBM Accuracy:\", accuracy_score(y_test, lgbm_preds))\n",
        "print(classification_report(y_test, lgbm_preds))\n",
        "\n",
        "print(\"CatBoost Accuracy:\", accuracy_score(y_test, cat_preds))\n",
        "print(classification_report(y_test, cat_preds))\n"
      ],
      "metadata": {
        "colab": {
          "base_uri": "https://localhost:8080/"
        },
        "id": "jdfFOwlq5N4n",
        "outputId": "6d59f2c9-d642-4c1c-89d2-43393a36a40f"
      },
      "execution_count": null,
      "outputs": [
        {
          "output_type": "stream",
          "name": "stderr",
          "text": [
            "/usr/local/lib/python3.11/dist-packages/xgboost/core.py:158: UserWarning: [03:44:46] WARNING: /workspace/src/learner.cc:740: \n",
            "Parameters: { \"verbose\" } are not used.\n",
            "\n",
            "  warnings.warn(smsg, UserWarning)\n",
            "/usr/local/lib/python3.11/dist-packages/sklearn/utils/deprecation.py:151: FutureWarning: 'force_all_finite' was renamed to 'ensure_all_finite' in 1.6 and will be removed in 1.8.\n",
            "  warnings.warn(\n",
            "/usr/local/lib/python3.11/dist-packages/sklearn/utils/deprecation.py:151: FutureWarning: 'force_all_finite' was renamed to 'ensure_all_finite' in 1.6 and will be removed in 1.8.\n",
            "  warnings.warn(\n"
          ]
        },
        {
          "output_type": "stream",
          "name": "stdout",
          "text": [
            "XGBoost Accuracy: 0.702449567723343\n",
            "              precision    recall  f1-score   support\n",
            "\n",
            "           0       0.55      0.49      0.52       456\n",
            "           1       0.76      0.81      0.78       932\n",
            "\n",
            "    accuracy                           0.70      1388\n",
            "   macro avg       0.66      0.65      0.65      1388\n",
            "weighted avg       0.69      0.70      0.70      1388\n",
            "\n",
            "LightGBM Accuracy: 0.7010086455331412\n",
            "              precision    recall  f1-score   support\n",
            "\n",
            "           0       0.56      0.44      0.49       456\n",
            "           1       0.75      0.83      0.79       932\n",
            "\n",
            "    accuracy                           0.70      1388\n",
            "   macro avg       0.65      0.64      0.64      1388\n",
            "weighted avg       0.69      0.70      0.69      1388\n",
            "\n",
            "CatBoost Accuracy: 0.7067723342939481\n",
            "              precision    recall  f1-score   support\n",
            "\n",
            "           0       0.57      0.44      0.49       456\n",
            "           1       0.75      0.84      0.79       932\n",
            "\n",
            "    accuracy                           0.71      1388\n",
            "   macro avg       0.66      0.64      0.64      1388\n",
            "weighted avg       0.69      0.71      0.70      1388\n",
            "\n"
          ]
        }
      ]
    },
    {
      "cell_type": "markdown",
      "source": [
        "Grid search:"
      ],
      "metadata": {
        "id": "nfE68NDTKyqC"
      }
    },
    {
      "cell_type": "code",
      "source": [
        "from sklearn.model_selection import GridSearchCV\n",
        "from xgboost import XGBClassifier\n",
        "\n",
        "# Bộ tham số cần thử\n",
        "param_grid = {\n",
        "    'n_estimators': [100, 200, 300, 500, 1000, 1500],\n",
        "    'max_depth': [3, 5, 7],\n",
        "    'learning_rate': [0.01, 0.05, 0.1],\n",
        "    'subsample': [0.7, 0.8, 0.9],\n",
        "    'colsample_bytree': [0.7, 0.8, 0.9]\n",
        "}\n",
        "\n",
        "# Grid Search để tìm tham số tốt nhất\n",
        "xgb = XGBClassifier(random_state=42)\n",
        "grid_search = GridSearchCV(xgb, param_grid, cv=5, scoring='accuracy', n_jobs=-1)\n",
        "grid_search.fit(X_train, y_train)\n",
        "\n",
        "# Hiển thị kết quả tốt nhất\n",
        "print(\"Best XGBoost Parameters:\", grid_search.best_params_)\n",
        "print(\"Best XGBoost Accuracy:\", grid_search.best_score_)\n"
      ],
      "metadata": {
        "colab": {
          "base_uri": "https://localhost:8080/"
        },
        "id": "g_PaTQnQ9v1j",
        "outputId": "701fd6fd-c085-4900-9e31-9420492b6f0c"
      },
      "execution_count": null,
      "outputs": [
        {
          "output_type": "stream",
          "name": "stdout",
          "text": [
            "Best XGBoost Parameters: {'colsample_bytree': 0.9, 'learning_rate': 0.01, 'max_depth': 3, 'n_estimators': 1500, 'subsample': 0.7}\n",
            "Best XGBoost Accuracy: 0.7304164360819037\n"
          ]
        }
      ]
    },
    {
      "cell_type": "code",
      "source": [
        "grid_pred = grid_search.predict(X_test)\n",
        "print(classification_report(y_test, grid_pred))"
      ],
      "metadata": {
        "colab": {
          "base_uri": "https://localhost:8080/"
        },
        "id": "PtihFcGIIwvE",
        "outputId": "e9f60e6a-a2ac-4a8a-9359-d35234f0284f"
      },
      "execution_count": null,
      "outputs": [
        {
          "output_type": "stream",
          "name": "stdout",
          "text": [
            "              precision    recall  f1-score   support\n",
            "\n",
            "           0       0.61      0.41      0.49       456\n",
            "           1       0.75      0.87      0.81       932\n",
            "\n",
            "    accuracy                           0.72      1388\n",
            "   macro avg       0.68      0.64      0.65      1388\n",
            "weighted avg       0.71      0.72      0.70      1388\n",
            "\n"
          ]
        }
      ]
    },
    {
      "cell_type": "markdown",
      "source": [
        "### c. SVM"
      ],
      "metadata": {
        "id": "RQMLvfHUGmfd"
      }
    },
    {
      "cell_type": "code",
      "source": [
        "from sklearn.svm import SVC\n",
        "from sklearn.model_selection import GridSearchCV\n",
        "from sklearn.model_selection import train_test_split\n",
        "\n",
        "# Đọc dữ liệu từ file Excel\n",
        "file_path = \"/content/cell_features.csv\"\n",
        "df = pd.read_csv(file_path)\n",
        "\n",
        "# Chuẩn hóa dữ liệu\n",
        "scaler = StandardScaler()\n",
        "# scaler = RobustScaler()\n",
        "X = df_features.drop(['File', 'Label'], axis=1)\n",
        "y = df_features['Label'].astype(int)\n",
        "X_scaled = scaler.fit_transform(X)\n",
        "\n",
        "# Chia tập train (80%) và test (20%)\n",
        "X_train, X_test, y_train, y_test = train_test_split(X_scaled, y, test_size=0.4, random_state=42, stratify=y)\n",
        "\n",
        "# 2. Định nghĩa bộ tham số cần thử nghiệm\n",
        "param_grid = {\n",
        "    'C': [0.1, 1, 10, 100],         # Giá trị khác nhau của C\n",
        "    'kernel': ['linear', 'rbf'],     # Chỉ thử nghiệm 2 loại kernel\n",
        "    'gamma': ['scale', 'auto', 0.01, 0.1, 1]  # Chỉ áp dụng khi kernel != 'linear'\n",
        "}\n",
        "\n",
        "# 3. Khởi tạo mô hình SVM\n",
        "svm = SVC()\n",
        "\n",
        "# 4. Dùng GridSearchCV để tìm bộ tham số tốt nhất\n",
        "grid_search = GridSearchCV(svm, param_grid, cv=5, scoring='accuracy', n_jobs=-1)\n",
        "grid_search.fit(X_train, y_train)\n",
        "\n",
        "# 5. In kết quả\n",
        "print(\"Best parameters:\", grid_search.best_params_)\n",
        "print(\"Best accuracy:\", grid_search.best_score_)\n",
        "svm_pred = grid_search.predict(X_test)\n",
        "print(classification_report(y_test, svm_pred))"
      ],
      "metadata": {
        "colab": {
          "base_uri": "https://localhost:8080/"
        },
        "id": "5WXh7iQmLH91",
        "outputId": "1ddf6d76-4a68-4db3-bc1e-022b8ec8fef5"
      },
      "execution_count": null,
      "outputs": [
        {
          "output_type": "stream",
          "name": "stdout",
          "text": [
            "Best parameters: {'C': 100, 'gamma': 'auto', 'kernel': 'rbf'}\n",
            "Best accuracy: 0.7361983490130972\n",
            "              precision    recall  f1-score   support\n",
            "\n",
            "           0       0.59      0.38      0.46       456\n",
            "           1       0.74      0.87      0.80       932\n",
            "\n",
            "    accuracy                           0.71      1388\n",
            "   macro avg       0.66      0.62      0.63      1388\n",
            "weighted avg       0.69      0.71      0.69      1388\n",
            "\n"
          ]
        }
      ]
    },
    {
      "cell_type": "markdown",
      "source": [
        "Feature selection:"
      ],
      "metadata": {
        "id": "cUWgQBQftlbV"
      }
    },
    {
      "cell_type": "code",
      "source": [
        "import pandas as pd\n",
        "import seaborn as sns\n",
        "import matplotlib.pyplot as plt\n",
        "\n",
        "# Giả sử df là DataFrame chứa dữ liệu\n",
        "corr_matrix = X.corr()\n",
        "\n",
        "# Vẽ heatmap để xem các cặp feature có tương quan cao\n",
        "plt.figure(figsize=(10, 8))\n",
        "sns.heatmap(corr_matrix, annot=True, cmap=\"coolwarm\", fmt=\".2f\")\n",
        "plt.show()\n"
      ],
      "metadata": {
        "colab": {
          "base_uri": "https://localhost:8080/",
          "height": 753
        },
        "id": "dYQZK-DEtSMX",
        "outputId": "7c673da9-e8b8-4cd2-8b23-ea0c437d9cf0"
      },
      "execution_count": null,
      "outputs": [
        {
          "output_type": "display_data",
          "data": {
            "text/plain": [
              "<Figure size 1000x800 with 2 Axes>"
            ],
            "image/png": "[encoded data removed]"
          },
          "metadata": {}
        }
      ]
    },
    {
      "cell_type": "code",
      "source": [
        "import pandas as pd\n",
        "import numpy as np\n",
        "from sklearn.model_selection import train_test_split\n",
        "from sklearn.preprocessing import StandardScaler, RobustScaler\n",
        "from xgboost import XGBClassifier\n",
        "from lightgbm import LGBMClassifier\n",
        "from catboost import CatBoostClassifier\n",
        "from sklearn.metrics import accuracy_score, classification_report\n",
        "\n",
        "# Đọc dữ liệu từ file Excel\n",
        "file_path = \"/content/cell_features.csv\"\n",
        "df = pd.read_csv(file_path)\n",
        "\n",
        "X_copy = X.drop(['ellisvolume', 'perimeter', 'minor_axis', 'major_axis'], axis=1)\n",
        "\n",
        "# Chuẩn hóa dữ liệu\n",
        "scaler = StandardScaler()\n",
        "# scaler = RobustScaler()\n",
        "X_scaled = scaler.fit_transform(X_copy)\n",
        "\n",
        "# Chia tập train (80%) và test (20%)\n",
        "X_train, X_test, y_train, y_test = train_test_split(X_scaled, y, test_size=0.4, random_state=42, stratify=y)\n",
        "\n",
        "# Huấn luyện các mô hình mạnh hơn\n",
        "\n",
        "# Model 1: XGBoost\n",
        "xgb_model = XGBClassifier(n_estimators=100, learning_rate=0.05, random_state=42)\n",
        "xgb_model.fit(X_train, y_train)\n",
        "xgb_preds = xgb_model.predict(X_test)\n",
        "\n",
        "# Model 2: LightGBM\n",
        "lgbm_model = LGBMClassifier(n_estimators=100, learning_rate=0.01, random_state=42)\n",
        "lgbm_model.fit(X_train, y_train)\n",
        "lgbm_preds = lgbm_model.predict(X_test)\n",
        "\n",
        "# Model 3: CatBoost (Không cần chuẩn hóa dữ liệu)\n",
        "cat_model = CatBoostClassifier(iterations=100, learning_rate=0.01, depth=6, random_seed=42, verbose=0)\n",
        "cat_model.fit(X_train, y_train)\n",
        "cat_preds = cat_model.predict(X_test)\n",
        "\n",
        "# Đánh giá mô hình\n",
        "print(\"XGBoost Accuracy:\", accuracy_score(y_test, xgb_preds))\n",
        "print(classification_report(y_test, xgb_preds))\n",
        "\n",
        "print(\"LightGBM Accuracy:\", accuracy_score(y_test, lgbm_preds))\n",
        "print(classification_report(y_test, lgbm_preds))\n",
        "\n",
        "print(\"CatBoost Accuracy:\", accuracy_score(y_test, cat_preds))\n",
        "print(classification_report(y_test, cat_preds))\n"
      ],
      "metadata": {
        "colab": {
          "base_uri": "https://localhost:8080/"
        },
        "id": "ABRX1q_ltrC4",
        "outputId": "2087cb10-f43b-46d7-d4df-01892a90f7a6"
      },
      "execution_count": null,
      "outputs": [
        {
          "output_type": "stream",
          "name": "stderr",
          "text": [
            "/usr/local/lib/python3.11/dist-packages/sklearn/utils/deprecation.py:151: FutureWarning: 'force_all_finite' was renamed to 'ensure_all_finite' in 1.6 and will be removed in 1.8.\n",
            "  warnings.warn(\n",
            "/usr/local/lib/python3.11/dist-packages/sklearn/utils/deprecation.py:151: FutureWarning: 'force_all_finite' was renamed to 'ensure_all_finite' in 1.6 and will be removed in 1.8.\n",
            "  warnings.warn(\n"
          ]
        },
        {
          "output_type": "stream",
          "name": "stdout",
          "text": [
            "[LightGBM] [Info] Number of positive: 1397, number of negative: 684\n",
            "[LightGBM] [Info] Auto-choosing col-wise multi-threading, the overhead of testing was 0.000195 seconds.\n",
            "You can set `force_col_wise=true` to remove the overhead.\n",
            "[LightGBM] [Info] Total Bins 1530\n",
            "[LightGBM] [Info] Number of data points in the train set: 2081, number of used features: 6\n",
            "[LightGBM] [Info] [binary:BoostFromScore]: pavg=0.671312 -> initscore=0.714124\n",
            "[LightGBM] [Info] Start training from score 0.714124\n",
            "XGBoost Accuracy: 0.6995677233429395\n",
            "              precision    recall  f1-score   support\n",
            "\n",
            "           0       0.56      0.38      0.45       456\n",
            "           1       0.74      0.86      0.79       932\n",
            "\n",
            "    accuracy                           0.70      1388\n",
            "   macro avg       0.65      0.62      0.62      1388\n",
            "weighted avg       0.68      0.70      0.68      1388\n",
            "\n",
            "LightGBM Accuracy: 0.7146974063400576\n",
            "              precision    recall  f1-score   support\n",
            "\n",
            "           0       0.65      0.29      0.40       456\n",
            "           1       0.73      0.92      0.81       932\n",
            "\n",
            "    accuracy                           0.71      1388\n",
            "   macro avg       0.69      0.60      0.60      1388\n",
            "weighted avg       0.70      0.71      0.68      1388\n",
            "\n",
            "CatBoost Accuracy: 0.7204610951008645\n",
            "              precision    recall  f1-score   support\n",
            "\n",
            "           0       0.65      0.32      0.43       456\n",
            "           1       0.73      0.92      0.82       932\n",
            "\n",
            "    accuracy                           0.72      1388\n",
            "   macro avg       0.69      0.62      0.62      1388\n",
            "weighted avg       0.71      0.72      0.69      1388\n",
            "\n"
          ]
        }
      ]
    },
    {
      "cell_type": "markdown",
      "source": [
        "Grid search after feature selection:"
      ],
      "metadata": {
        "id": "CiVy6LL2xpRs"
      }
    },
    {
      "cell_type": "code",
      "source": [
        "from sklearn.model_selection import GridSearchCV\n",
        "from xgboost import XGBClassifier\n",
        "\n",
        "# Bộ tham số cần thử\n",
        "param_grid = {\n",
        "    'n_estimators': [100, 200, 300],\n",
        "    'max_depth': [3, 5, 7],\n",
        "    'learning_rate': [0.01, 0.05, 0.1],\n",
        "    'subsample': [0.7, 0.8, 0.9],\n",
        "    'colsample_bytree': [0.7, 0.8, 0.9]\n",
        "}\n",
        "\n",
        "# Grid Search để tìm tham số tốt nhất\n",
        "xgb = XGBClassifier(random_state=42)\n",
        "grid_search = GridSearchCV(xgb, param_grid, cv=5, scoring='accuracy', n_jobs=-1)\n",
        "grid_search.fit(X_train, y_train)\n",
        "\n",
        "# Hiển thị kết quả tốt nhất\n",
        "print(\"Best XGBoost Parameters:\", grid_search.best_params_)\n",
        "print(\"Best XGBoost Accuracy:\", grid_search.best_score_)\n",
        "\n",
        "# predict\n",
        "grid_pred = grid_search.predict(X_test)\n",
        "print(classification_report(y_test, grid_pred))"
      ],
      "metadata": {
        "colab": {
          "base_uri": "https://localhost:8080/"
        },
        "id": "RuZWG8tNxa6j",
        "outputId": "12db3746-4c38-4a93-f28d-87e88bf2d8a3"
      },
      "execution_count": null,
      "outputs": [
        {
          "output_type": "stream",
          "name": "stdout",
          "text": [
            "Best XGBoost Parameters: {'colsample_bytree': 0.7, 'learning_rate': 0.01, 'max_depth': 3, 'n_estimators': 200, 'subsample': 0.8}\n",
            "Best XGBoost Accuracy: 0.7294583563918096\n",
            "              precision    recall  f1-score   support\n",
            "\n",
            "           0       0.66      0.27      0.38       456\n",
            "           1       0.72      0.93      0.81       932\n",
            "\n",
            "    accuracy                           0.71      1388\n",
            "   macro avg       0.69      0.60      0.60      1388\n",
            "weighted avg       0.70      0.71      0.67      1388\n",
            "\n"
          ]
        }
      ]
    },
    {
      "cell_type": "code",
      "source": [
        "# SVM\n",
        "from sklearn.svm import SVC\n",
        "import itertools\n",
        "\n",
        "regularization = [0.1, 1, 10, 100]\n",
        "gamma = ['scale', 'auto', 0.1, 1, 10]\n",
        "\n",
        "for c, g in itertools.product(regularization, gamma):\n",
        "    model = SVC(kernel='rbf', C=c, gamma=g)\n",
        "    model.fit(X_train, y_train)\n",
        "    svm_pred = model.predict(X_test)\n",
        "    print(f'Hyper-parameters: c={c}, gamma={g}')\n",
        "    print(classification_report(y_test, svm_pred))\n",
        "    print('\\n')"
      ],
      "metadata": {
        "colab": {
          "base_uri": "https://localhost:8080/"
        },
        "id": "zntaP0bj4asM",
        "outputId": "7bb07ca1-3fd2-4178-c3c1-0354a6528bec"
      },
      "execution_count": null,
      "outputs": [
        {
          "output_type": "stream",
          "name": "stdout",
          "text": [
            "Hyper-parameters: c=0.1, gamma=scale\n",
            "              precision    recall  f1-score   support\n",
            "\n",
            "           0       0.78      0.02      0.03       456\n",
            "           1       0.67      1.00      0.80       932\n",
            "\n",
            "    accuracy                           0.68      1388\n",
            "   macro avg       0.73      0.51      0.42      1388\n",
            "weighted avg       0.71      0.68      0.55      1388\n",
            "\n",
            "\n",
            "\n",
            "Hyper-parameters: c=0.1, gamma=auto\n",
            "              precision    recall  f1-score   support\n",
            "\n",
            "           0       0.78      0.02      0.03       456\n",
            "           1       0.67      1.00      0.80       932\n",
            "\n",
            "    accuracy                           0.68      1388\n",
            "   macro avg       0.73      0.51      0.42      1388\n",
            "weighted avg       0.71      0.68      0.55      1388\n",
            "\n",
            "\n",
            "\n",
            "Hyper-parameters: c=0.1, gamma=0.1\n",
            "              precision    recall  f1-score   support\n",
            "\n",
            "           0       0.78      0.04      0.08       456\n",
            "           1       0.68      0.99      0.81       932\n",
            "\n",
            "    accuracy                           0.68      1388\n",
            "   macro avg       0.73      0.52      0.44      1388\n",
            "weighted avg       0.71      0.68      0.57      1388\n",
            "\n",
            "\n",
            "\n",
            "Hyper-parameters: c=0.1, gamma=1\n",
            "              precision    recall  f1-score   support\n",
            "\n",
            "           0       0.65      0.11      0.19       456\n",
            "           1       0.69      0.97      0.81       932\n",
            "\n",
            "    accuracy                           0.69      1388\n",
            "   macro avg       0.67      0.54      0.50      1388\n",
            "weighted avg       0.68      0.69      0.60      1388\n",
            "\n",
            "\n",
            "\n",
            "Hyper-parameters: c=0.1, gamma=10\n",
            "              precision    recall  f1-score   support\n",
            "\n",
            "           0       0.00      0.00      0.00       456\n",
            "           1       0.67      1.00      0.80       932\n",
            "\n",
            "    accuracy                           0.67      1388\n",
            "   macro avg       0.34      0.50      0.40      1388\n",
            "weighted avg       0.45      0.67      0.54      1388\n",
            "\n",
            "\n",
            "\n"
          ]
        },
        {
          "output_type": "stream",
          "name": "stderr",
          "text": [
            "/usr/local/lib/python3.11/dist-packages/sklearn/metrics/_classification.py:1565: UndefinedMetricWarning: Precision is ill-defined and being set to 0.0 in labels with no predicted samples. Use `zero_division` parameter to control this behavior.\n",
            "  _warn_prf(average, modifier, f\"{metric.capitalize()} is\", len(result))\n",
            "/usr/local/lib/python3.11/dist-packages/sklearn/metrics/_classification.py:1565: UndefinedMetricWarning: Precision is ill-defined and being set to 0.0 in labels with no predicted samples. Use `zero_division` parameter to control this behavior.\n",
            "  _warn_prf(average, modifier, f\"{metric.capitalize()} is\", len(result))\n",
            "/usr/local/lib/python3.11/dist-packages/sklearn/metrics/_classification.py:1565: UndefinedMetricWarning: Precision is ill-defined and being set to 0.0 in labels with no predicted samples. Use `zero_division` parameter to control this behavior.\n",
            "  _warn_prf(average, modifier, f\"{metric.capitalize()} is\", len(result))\n"
          ]
        },
        {
          "output_type": "stream",
          "name": "stdout",
          "text": [
            "Hyper-parameters: c=1, gamma=scale\n",
            "              precision    recall  f1-score   support\n",
            "\n",
            "           0       0.69      0.28      0.40       456\n",
            "           1       0.73      0.94      0.82       932\n",
            "\n",
            "    accuracy                           0.72      1388\n",
            "   macro avg       0.71      0.61      0.61      1388\n",
            "weighted avg       0.72      0.72      0.68      1388\n",
            "\n",
            "\n",
            "\n",
            "Hyper-parameters: c=1, gamma=auto\n",
            "              precision    recall  f1-score   support\n",
            "\n",
            "           0       0.69      0.28      0.40       456\n",
            "           1       0.73      0.94      0.82       932\n",
            "\n",
            "    accuracy                           0.72      1388\n",
            "   macro avg       0.71      0.61      0.61      1388\n",
            "weighted avg       0.72      0.72      0.68      1388\n",
            "\n",
            "\n",
            "\n",
            "Hyper-parameters: c=1, gamma=0.1\n",
            "              precision    recall  f1-score   support\n",
            "\n",
            "           0       0.71      0.24      0.35       456\n",
            "           1       0.72      0.95      0.82       932\n",
            "\n",
            "    accuracy                           0.72      1388\n",
            "   macro avg       0.71      0.59      0.59      1388\n",
            "weighted avg       0.71      0.72      0.67      1388\n",
            "\n",
            "\n",
            "\n",
            "Hyper-parameters: c=1, gamma=1\n",
            "              precision    recall  f1-score   support\n",
            "\n",
            "           0       0.64      0.34      0.45       456\n",
            "           1       0.74      0.90      0.81       932\n",
            "\n",
            "    accuracy                           0.72      1388\n",
            "   macro avg       0.69      0.62      0.63      1388\n",
            "weighted avg       0.70      0.72      0.69      1388\n",
            "\n",
            "\n",
            "\n",
            "Hyper-parameters: c=1, gamma=10\n",
            "              precision    recall  f1-score   support\n",
            "\n",
            "           0       0.53      0.21      0.30       456\n",
            "           1       0.70      0.91      0.79       932\n",
            "\n",
            "    accuracy                           0.68      1388\n",
            "   macro avg       0.61      0.56      0.54      1388\n",
            "weighted avg       0.64      0.68      0.63      1388\n",
            "\n",
            "\n",
            "\n",
            "Hyper-parameters: c=10, gamma=scale\n",
            "              precision    recall  f1-score   support\n",
            "\n",
            "           0       0.67      0.32      0.44       456\n",
            "           1       0.74      0.92      0.82       932\n",
            "\n",
            "    accuracy                           0.72      1388\n",
            "   macro avg       0.70      0.62      0.63      1388\n",
            "weighted avg       0.71      0.72      0.69      1388\n",
            "\n",
            "\n",
            "\n",
            "Hyper-parameters: c=10, gamma=auto\n",
            "              precision    recall  f1-score   support\n",
            "\n",
            "           0       0.66      0.33      0.44       456\n",
            "           1       0.74      0.92      0.82       932\n",
            "\n",
            "    accuracy                           0.72      1388\n",
            "   macro avg       0.70      0.62      0.63      1388\n",
            "weighted avg       0.71      0.72      0.69      1388\n",
            "\n",
            "\n",
            "\n",
            "Hyper-parameters: c=10, gamma=0.1\n",
            "              precision    recall  f1-score   support\n",
            "\n",
            "           0       0.67      0.30      0.42       456\n",
            "           1       0.73      0.93      0.82       932\n",
            "\n",
            "    accuracy                           0.72      1388\n",
            "   macro avg       0.70      0.62      0.62      1388\n",
            "weighted avg       0.71      0.72      0.69      1388\n",
            "\n",
            "\n",
            "\n",
            "Hyper-parameters: c=10, gamma=1\n",
            "              precision    recall  f1-score   support\n",
            "\n",
            "           0       0.57      0.41      0.48       456\n",
            "           1       0.75      0.85      0.79       932\n",
            "\n",
            "    accuracy                           0.71      1388\n",
            "   macro avg       0.66      0.63      0.64      1388\n",
            "weighted avg       0.69      0.71      0.69      1388\n",
            "\n",
            "\n",
            "\n",
            "Hyper-parameters: c=10, gamma=10\n",
            "              precision    recall  f1-score   support\n",
            "\n",
            "           0       0.42      0.28      0.34       456\n",
            "           1       0.70      0.81      0.75       932\n",
            "\n",
            "    accuracy                           0.64      1388\n",
            "   macro avg       0.56      0.55      0.54      1388\n",
            "weighted avg       0.61      0.64      0.61      1388\n",
            "\n",
            "\n",
            "\n",
            "Hyper-parameters: c=100, gamma=scale\n",
            "              precision    recall  f1-score   support\n",
            "\n",
            "           0       0.64      0.38      0.47       456\n",
            "           1       0.75      0.90      0.81       932\n",
            "\n",
            "    accuracy                           0.73      1388\n",
            "   macro avg       0.69      0.64      0.64      1388\n",
            "weighted avg       0.71      0.73      0.70      1388\n",
            "\n",
            "\n",
            "\n",
            "Hyper-parameters: c=100, gamma=auto\n",
            "              precision    recall  f1-score   support\n",
            "\n",
            "           0       0.64      0.37      0.47       456\n",
            "           1       0.74      0.90      0.81       932\n",
            "\n",
            "    accuracy                           0.72      1388\n",
            "   macro avg       0.69      0.63      0.64      1388\n",
            "weighted avg       0.71      0.72      0.70      1388\n",
            "\n",
            "\n",
            "\n",
            "Hyper-parameters: c=100, gamma=0.1\n",
            "              precision    recall  f1-score   support\n",
            "\n",
            "           0       0.66      0.34      0.45       456\n",
            "           1       0.74      0.91      0.82       932\n",
            "\n",
            "    accuracy                           0.73      1388\n",
            "   macro avg       0.70      0.63      0.63      1388\n",
            "weighted avg       0.71      0.73      0.70      1388\n",
            "\n",
            "\n",
            "\n",
            "Hyper-parameters: c=100, gamma=1\n",
            "              precision    recall  f1-score   support\n",
            "\n",
            "           0       0.49      0.46      0.47       456\n",
            "           1       0.74      0.77      0.76       932\n",
            "\n",
            "    accuracy                           0.67      1388\n",
            "   macro avg       0.62      0.61      0.61      1388\n",
            "weighted avg       0.66      0.67      0.66      1388\n",
            "\n",
            "\n",
            "\n",
            "Hyper-parameters: c=100, gamma=10\n",
            "              precision    recall  f1-score   support\n",
            "\n",
            "           0       0.42      0.28      0.34       456\n",
            "           1       0.70      0.81      0.75       932\n",
            "\n",
            "    accuracy                           0.64      1388\n",
            "   macro avg       0.56      0.55      0.54      1388\n",
            "weighted avg       0.61      0.64      0.61      1388\n",
            "\n",
            "\n",
            "\n"
          ]
        }
      ]
    },
    {
      "cell_type": "markdown",
      "source": [
        "# B. Đặc trưng 2: Nhân có khía, chạy dọc/ngang, một phần hoặc toàn bộ nhân"
      ],
      "metadata": {
        "id": "VNPPkhrcBT2m"
      }
    },
    {
      "cell_type": "code",
      "source": [
        "import os\n",
        "import cv2\n",
        "import numpy as np\n",
        "import pandas as pd\n",
        "from scipy.fftpack import fft2, fftshift\n",
        "from sklearn.model_selection import train_test_split\n",
        "from sklearn.preprocessing import StandardScaler\n",
        "from sklearn.ensemble import RandomForestClassifier\n",
        "from sklearn.metrics import accuracy_score, classification_report\n",
        "import joblib\n",
        "\n",
        "# Định nghĩa thư mục chứa ảnh & file nhãn\n",
        "image_folder = \"/content/drive/MyDrive/Cell_Prediction/images/images\"\n",
        "labels_file = \"/content/drive/MyDrive/Cell_Prediction/images/labels.json\"\n",
        "\n",
        "# Đọc nhãn từ file JSON\n",
        "import json\n",
        "with open(labels_file, 'r') as f:\n",
        "    labels_dict = json.load(f)\n",
        "\n",
        "# Hàm tính toán đặc trưng\n",
        "def detect_edges(img):\n",
        "    edges = cv2.Canny(img, 50, 150)\n",
        "    return np.sum(edges) / (img.shape[0] * img.shape[1])\n",
        "\n",
        "def detect_texture_fft(img):\n",
        "    f_transform = np.log(np.abs(fftshift(fft2(img))) + 1)\n",
        "    return np.mean(f_transform)\n",
        "\n",
        "#  Tính đặc trưng cho tất cả ảnh\n",
        "data = []\n",
        "for filename in os.listdir(image_folder):\n",
        "    if filename.endswith('.jpg'):\n",
        "        image_path = os.path.join(image_folder, filename)\n",
        "        img = cv2.imread(image_path, cv2.IMREAD_GRAYSCALE)\n",
        "        if img is None:\n",
        "            continue\n",
        "\n",
        "        # Tính toán đặc trưng\n",
        "        edge_density = detect_edges(img)\n",
        "        texture_value = detect_texture_fft(img)\n",
        "\n",
        "        # Lấy nhãn từ labels.json\n",
        "        filename_no_ext = os.path.splitext(filename)[0]\n",
        "        label = labels_dict.get(filename_no_ext, None)\n",
        "        if label is None:\n",
        "            continue\n",
        "\n",
        "        # Lưu vào danh sách\n",
        "        data.append([filename, edge_density, texture_value] + [label[1]])  # Label_2\n",
        "\n",
        "# Lưu vào file Excel\n",
        "columns = [\"Filename\", \"Edge Density\", \"FFT Texture\", \"Label_2\"]\n",
        "df = pd.DataFrame(data, columns=columns)\n",
        "excel_path = \"/content/drive/MyDrive/Cell_Prediction/nucleus_texture_features.xlsx\"\n",
        "df.to_excel(excel_path, index=False)\n",
        "\n",
        "print(f\"Đã lưu đặc trưng vào: {excel_path}\")\n",
        "\n"
      ],
      "metadata": {
        "colab": {
          "base_uri": "https://localhost:8080/"
        },
        "id": "t_7yQed8BSXc",
        "outputId": "d16d2873-aa8b-48e3-aa7b-080c802351f7"
      },
      "execution_count": null,
      "outputs": [
        {
          "output_type": "stream",
          "name": "stdout",
          "text": [
            "✅ Đã lưu đặc trưng vào: /content/drive/MyDrive/Cell_Prediction/nucleus_texture_features.xlsx\n"
          ]
        }
      ]
    },
    {
      "cell_type": "code",
      "source": [
        "import pandas as pd\n",
        "import numpy as np\n",
        "from sklearn.model_selection import train_test_split\n",
        "from sklearn.preprocessing import StandardScaler\n",
        "from xgboost import XGBClassifier\n",
        "from lightgbm import LGBMClassifier\n",
        "from catboost import CatBoostClassifier\n",
        "from sklearn.metrics import accuracy_score, classification_report\n",
        "import joblib\n",
        "\n",
        "# Đọc dữ liệu từ file Excel\n",
        "file_path = \"/content/drive/MyDrive/Cell_Prediction/nucleus_texture_features.xlsx\"\n",
        "df = pd.read_excel(file_path)\n",
        "\n",
        "# Tiền xử lý dữ liệu\n",
        "X = df[[\"Edge Density\", \"FFT Texture\"]].values  # Đặc trưng\n",
        "y = df[\"Label_2\"].values  # Nhãn cần dự đoán\n",
        "\n",
        "# Chuẩn hóa dữ liệu\n",
        "scaler = StandardScaler()\n",
        "X_scaled = scaler.fit_transform(X)\n",
        "\n",
        "# Chia tập train (80%) và test (20%)\n",
        "X_train, X_test, y_train, y_test = train_test_split(X_scaled, y, test_size=0.4, random_state=42, stratify=y)\n",
        "\n",
        "# Huấn luyện các mô hình mạnh hơn\n",
        "\n",
        "# Model 1: XGBoost (thêm scale_pos_weight để cân bằng dữ liệu)\n",
        "imbalance_ratio = np.bincount(y_train)[1] / np.bincount(y_train)[0]\n",
        "xgb_model = XGBClassifier(n_estimators=200, learning_rate=0.05, scale_pos_weight=imbalance_ratio, random_state=42)\n",
        "xgb_model.fit(X_train, y_train)\n",
        "xgb_preds = xgb_model.predict(X_test)\n",
        "\n",
        "# Model 2: LightGBM (class_weight='balanced')\n",
        "lgbm_model = LGBMClassifier(n_estimators=200, learning_rate=0.05, class_weight='balanced', random_state=42)\n",
        "lgbm_model.fit(X_train, y_train)\n",
        "lgbm_preds = lgbm_model.predict(X_test)\n",
        "\n",
        "# Model 3: CatBoost (class_weights để cân bằng dữ liệu)\n",
        "cat_model = CatBoostClassifier(iterations=200, learning_rate=0.05, depth=6, class_weights=[1, imbalance_ratio], random_seed=42, verbose=0)\n",
        "cat_model.fit(X_train, y_train)\n",
        "cat_preds = cat_model.predict(X_test)\n",
        "\n",
        "# Đánh giá mô hình\n",
        "print(\"XGBoost Accuracy:\", accuracy_score(y_test, xgb_preds))\n",
        "print(classification_report(y_test, xgb_preds))\n",
        "\n",
        "print(\"LightGBM Accuracy:\", accuracy_score(y_test, lgbm_preds))\n",
        "print(classification_report(y_test, lgbm_preds))\n",
        "\n",
        "print(\"CatBoost Accuracy:\", accuracy_score(y_test, cat_preds))\n",
        "print(classification_report(y_test, cat_preds))\n",
        "\n",
        "# Lưu mô hình để sử dụng sau\n",
        "joblib.dump(xgb_model, \"/content/drive/MyDrive/Cell_Prediction/xgboost_label2.pkl\")\n",
        "joblib.dump(lgbm_model, \"/content/drive/MyDrive/Cell_Prediction/lightgbm_label2.pkl\")\n",
        "joblib.dump(cat_model, \"/content/drive/MyDrive/Cell_Prediction/catboost_label2.pkl\")\n",
        "\n",
        "print(\"Mô hình đã lưu thành công!\")\n"
      ],
      "metadata": {
        "colab": {
          "base_uri": "https://localhost:8080/"
        },
        "id": "LVTOQyCPBaNY",
        "outputId": "4a08b6df-26a9-466b-b0d7-994e4122115d"
      },
      "execution_count": null,
      "outputs": [
        {
          "output_type": "stream",
          "name": "stderr",
          "text": [
            "/usr/local/lib/python3.11/dist-packages/sklearn/utils/deprecation.py:151: FutureWarning: 'force_all_finite' was renamed to 'ensure_all_finite' in 1.6 and will be removed in 1.8.\n",
            "  warnings.warn(\n",
            "/usr/local/lib/python3.11/dist-packages/sklearn/utils/deprecation.py:151: FutureWarning: 'force_all_finite' was renamed to 'ensure_all_finite' in 1.6 and will be removed in 1.8.\n",
            "  warnings.warn(\n"
          ]
        },
        {
          "output_type": "stream",
          "name": "stdout",
          "text": [
            "[LightGBM] [Info] Number of positive: 1112, number of negative: 782\n",
            "[LightGBM] [Info] Auto-choosing col-wise multi-threading, the overhead of testing was 0.000079 seconds.\n",
            "You can set `force_col_wise=true` to remove the overhead.\n",
            "[LightGBM] [Info] Total Bins 510\n",
            "[LightGBM] [Info] Number of data points in the train set: 1894, number of used features: 2\n",
            "[LightGBM] [Info] [binary:BoostFromScore]: pavg=0.500000 -> initscore=-0.000000\n",
            "[LightGBM] [Info] Start training from score -0.000000\n",
            "🔹 XGBoost Accuracy: 0.5969912905779889\n",
            "              precision    recall  f1-score   support\n",
            "\n",
            "           0       0.53      0.23      0.32       521\n",
            "           1       0.61      0.86      0.71       742\n",
            "\n",
            "    accuracy                           0.60      1263\n",
            "   macro avg       0.57      0.54      0.52      1263\n",
            "weighted avg       0.58      0.60      0.55      1263\n",
            "\n",
            "🔹 LightGBM Accuracy: 0.5423594615993665\n",
            "              precision    recall  f1-score   support\n",
            "\n",
            "           0       0.45      0.53      0.49       521\n",
            "           1       0.63      0.55      0.59       742\n",
            "\n",
            "    accuracy                           0.54      1263\n",
            "   macro avg       0.54      0.54      0.54      1263\n",
            "weighted avg       0.55      0.54      0.55      1263\n",
            "\n",
            "🔹 CatBoost Accuracy: 0.6167854315122724\n",
            "              precision    recall  f1-score   support\n",
            "\n",
            "           0       0.60      0.21      0.31       521\n",
            "           1       0.62      0.90      0.73       742\n",
            "\n",
            "    accuracy                           0.62      1263\n",
            "   macro avg       0.61      0.56      0.52      1263\n",
            "weighted avg       0.61      0.62      0.56      1263\n",
            "\n",
            "✅ Mô hình đã lưu thành công!\n"
          ]
        }
      ]
    },
    {
      "cell_type": "markdown",
      "source": [
        "# C. Đặc trưng 3: có thể vùi tron nhân:"
      ],
      "metadata": {
        "id": "OErC7bcsG6ul"
      }
    },
    {
      "cell_type": "markdown",
      "source": [
        "## 1. ML approach:"
      ],
      "metadata": {
        "id": "vOO6iBHy1iyr"
      }
    },
    {
      "cell_type": "code",
      "source": [
        "!pip install -q catboost"
      ],
      "metadata": {
        "colab": {
          "base_uri": "https://localhost:8080/"
        },
        "id": "ZRy1GfQzSCTt",
        "outputId": "6180dc28-8f0a-4ec9-d458-805ffcccc4a4"
      },
      "execution_count": 3,
      "outputs": [
        {
          "output_type": "stream",
          "name": "stdout",
          "text": [
            "\u001b[2K   \u001b[90m━━━━━━━━━━━━━━━━━━━━━━━━━━━━━━━━━━━━━━━━\u001b[0m \u001b[32m98.7/98.7 MB\u001b[0m \u001b[31m5.0 MB/s\u001b[0m eta \u001b[36m0:00:00\u001b[0m\n",
            "\u001b[?25h"
          ]
        }
      ]
    },
    {
      "cell_type": "code",
      "source": [
        "import os\n",
        "import cv2\n",
        "import numpy as np\n",
        "import pandas as pd\n",
        "from scipy.fftpack import fft2, fftshift\n",
        "from sklearn.model_selection import train_test_split\n",
        "from sklearn.preprocessing import StandardScaler\n",
        "from xgboost import XGBClassifier\n",
        "import json\n",
        "from lightgbm import LGBMClassifier\n",
        "from catboost import CatBoostClassifier\n",
        "from sklearn.metrics import accuracy_score, classification_report\n",
        "import joblib"
      ],
      "metadata": {
        "id": "6DoheEb6DQKc"
      },
      "execution_count": null,
      "outputs": []
    },
    {
      "cell_type": "markdown",
      "source": [
        "##### Feature extraction:"
      ],
      "metadata": {
        "id": "3XgC8xBBYixb"
      }
    },
    {
      "cell_type": "code",
      "source": [
        "# Định nghĩa thư mục chứa ảnh & file nhãn\n",
        "image_folder = \"/content/image_with_points/\"\n",
        "labels_file = \"/content/image_with_points/labels.json\"\n",
        "\n",
        "# Đọc nhãn từ file JSON\n",
        "with open(labels_file, 'r') as f:\n",
        "    labels_dict = json.load(f)\n",
        "\n",
        "# Hàm tính toán đặc trưng\n",
        "\n",
        "def detect_pseudoinclusion(img):\n",
        "    \"\"\"\n",
        "    Phương pháp 1: Adaptive Thresholding - Phát hiện các vùng vùi trong nhân\n",
        "    \"\"\"\n",
        "    adaptive_thresh = cv2.adaptiveThreshold(img, 255, cv2.ADAPTIVE_THRESH_GAUSSIAN_C,\n",
        "                                            cv2.THRESH_BINARY_INV, 15, 5)\n",
        "    contours, _ = cv2.findContours(adaptive_thresh, cv2.RETR_EXTERNAL, cv2.CHAIN_APPROX_SIMPLE)\n",
        "    return len(contours)  # Số vùng nhỏ bên trong nhân\n",
        "\n",
        "def detect_watershed_regions(img):\n",
        "    \"\"\"\n",
        "    Sử dụng Watershed Segmentation để phát hiện số vùng nhỏ trong nhân.\n",
        "    \"\"\"\n",
        "    blurred = cv2.GaussianBlur(img, (5, 5), 0)\n",
        "    _, thresh = cv2.threshold(blurred, 0, 255, cv2.THRESH_BINARY + cv2.THRESH_OTSU)\n",
        "\n",
        "    kernel = np.ones((3, 3), np.uint8)\n",
        "    sure_bg = cv2.dilate(thresh, kernel, iterations=2)\n",
        "    dist_transform = cv2.distanceTransform(thresh, cv2.DIST_L2, 5)\n",
        "    _, sure_fg = cv2.threshold(dist_transform, 0.5 * dist_transform.max(), 255, 0)\n",
        "\n",
        "    # Chuyển sure_fg về uint8 để tránh lỗi subtract\n",
        "    sure_fg = np.uint8(sure_fg)\n",
        "\n",
        "    # Sửa lỗi khi trừ hai ma trận kiểu khác nhau\n",
        "    unknown = cv2.subtract(sure_bg, sure_fg)\n",
        "\n",
        "    # Tạo marker để phân vùng Watershed\n",
        "    _, markers = cv2.connectedComponents(sure_fg)\n",
        "    markers += 1\n",
        "    markers[unknown == 255] = 0\n",
        "\n",
        "    # Áp dụng Watershed\n",
        "    img_color = cv2.cvtColor(img, cv2.COLOR_GRAY2BGR)\n",
        "    cv2.watershed(img_color, markers)\n",
        "\n",
        "    # Đếm số vùng trong nhân (sau Watershed)\n",
        "    num_regions = len(np.unique(markers)) - 2  # Trừ background & nhân chính\n",
        "\n",
        "    return num_regions\n",
        "\n",
        "\n",
        "def detect_histogram_peaks(img):\n",
        "    \"\"\"\n",
        "    Phương pháp 3: Histogram Peaks Analysis - Đếm số lượng đỉnh trong histogram\n",
        "    \"\"\"\n",
        "    hist = cv2.calcHist([img], [0], None, [256], [0, 256])\n",
        "    hist = hist.flatten()\n",
        "    return np.count_nonzero((hist[1:-1] > hist[:-2]) & (hist[1:-1] > hist[2:]))"
      ],
      "metadata": {
        "id": "SFlkEl7LG-Tm"
      },
      "execution_count": null,
      "outputs": []
    },
    {
      "cell_type": "code",
      "source": [
        "# Tính đặc trưng cho tất cả ảnh\n",
        "data = []\n",
        "for filename in os.listdir(image_folder):\n",
        "    if filename.endswith('.jpg'):\n",
        "        image_path = os.path.join(image_folder, filename)\n",
        "        img = cv2.imread(image_path, cv2.IMREAD_GRAYSCALE)\n",
        "        if img is None:\n",
        "            continue\n",
        "\n",
        "        # Tính toán đặc trưng\n",
        "        pseudoinclusion_value = detect_pseudoinclusion(img)\n",
        "        watershed_value = detect_watershed_regions(img)\n",
        "        histogram_peaks = detect_histogram_peaks(img)\n",
        "\n",
        "        # Lấy nhãn từ labels.json\n",
        "        filename_no_ext = os.path.splitext(filename)[0]\n",
        "        label = labels_dict.get(filename_no_ext, None)\n",
        "        if label is None:\n",
        "            continue\n",
        "        else:\n",
        "          label = label.get('label', None)\n",
        "\n",
        "        # Lưu vào danh sách\n",
        "        data.append([filename, pseudoinclusion_value, watershed_value, histogram_peaks] + [label[2]])  # Label_3\n",
        "\n",
        "# Lưu vào file Excel\n",
        "columns = [\"Filename\", \"Pseudoinclusion Count\", \"Watershed Region Count\", \"Histogram Peaks Count\", \"Label_3\"]\n",
        "df = pd.DataFrame(data, columns=columns)\n",
        "excel_path = \"/content/nucleus_pseudoinclusion_features.xlsx\"\n",
        "df.to_excel(excel_path, index=False)\n",
        "\n",
        "print(f\"Đã lưu đặc trưng vào: {excel_path}\")\n",
        "\n",
        "# Đọc dữ liệu từ file Excel\n",
        "df = pd.read_excel(excel_path)\n",
        "\n",
        "# Tiền xử lý dữ liệu\n",
        "X = df[[\"Pseudoinclusion Count\", \"Watershed Region Count\", \"Histogram Peaks Count\"]].values\n",
        "y = df[\"Label_3\"].values  # Nhãn cần dự đoán\n",
        "\n",
        "scaler = StandardScaler()\n",
        "X_scaled = scaler.fit_transform(X)\n",
        "\n",
        "X_train, X_test, y_train, y_test = train_test_split(X_scaled, y, test_size=0.2, random_state=42, stratify=y)"
      ],
      "metadata": {
        "colab": {
          "base_uri": "https://localhost:8080/"
        },
        "id": "1gOtsx8vDEsB",
        "outputId": "5a4da70d-8ad6-46c5-f13e-db8f5b0be8eb"
      },
      "execution_count": null,
      "outputs": [
        {
          "output_type": "stream",
          "name": "stdout",
          "text": [
            "Đã lưu đặc trưng vào: /content/nucleus_pseudoinclusion_features.xlsx\n"
          ]
        }
      ]
    },
    {
      "cell_type": "markdown",
      "source": [
        "##### Fitting models:"
      ],
      "metadata": {
        "id": "S6bFzpfkYmLT"
      }
    },
    {
      "cell_type": "code",
      "source": [
        "# Model 1: XGBoost (thêm scale_pos_weight để cân bằng dữ liệu)\n",
        "imbalance_ratio = np.bincount(y_train)[1] / np.bincount(y_train)[0]\n",
        "xgb_model = XGBClassifier(n_estimators=200, learning_rate=0.05, scale_pos_weight=imbalance_ratio, random_state=42)\n",
        "xgb_model.fit(X_train, y_train)\n",
        "xgb_preds = xgb_model.predict(X_test)\n",
        "\n",
        "# Model 2: LightGBM (class_weight='balanced')\n",
        "lgbm_model = LGBMClassifier(n_estimators=200, learning_rate=0.05, class_weight='balanced', random_state=42)\n",
        "lgbm_model.fit(X_train, y_train)\n",
        "lgbm_preds = lgbm_model.predict(X_test)\n",
        "\n",
        "# Model 3: CatBoost (class_weights để cân bằng dữ liệu)\n",
        "cat_model = CatBoostClassifier(iterations=200, learning_rate=0.05, depth=6, class_weights=[1, imbalance_ratio], random_seed=42, verbose=0)\n",
        "cat_model.fit(X_train, y_train)\n",
        "cat_preds = cat_model.predict(X_test)\n",
        "\n",
        "# Đánh giá mô hình\n",
        "print(\"XGBoost Accuracy:\", accuracy_score(y_test, xgb_preds))\n",
        "print(classification_report(y_test, xgb_preds))\n",
        "\n",
        "print(\"LightGBM Accuracy:\", accuracy_score(y_test, lgbm_preds))\n",
        "print(classification_report(y_test, lgbm_preds))\n",
        "\n",
        "print(\"CatBoost Accuracy:\", accuracy_score(y_test, cat_preds))\n",
        "print(classification_report(y_test, cat_preds))\n",
        "\n",
        "# 📂 7️⃣ Lưu mô hình để sử dụng sau\n",
        "joblib.dump(xgb_model, \"/content/xgboost_label3.pkl\")\n",
        "joblib.dump(lgbm_model, \"/content/lightgbm_label3.pkl\")\n",
        "joblib.dump(cat_model, \"/content/catboost_label3.pkl\")\n",
        "\n",
        "print(\"Mô hình đã lưu thành công!\")"
      ],
      "metadata": {
        "colab": {
          "base_uri": "https://localhost:8080/"
        },
        "id": "MxFQFiLGYoq1",
        "outputId": "b5acd211-7311-4283-b573-0afa87625395"
      },
      "execution_count": null,
      "outputs": [
        {
          "output_type": "stream",
          "name": "stderr",
          "text": [
            "/usr/local/lib/python3.11/dist-packages/sklearn/utils/deprecation.py:151: FutureWarning: 'force_all_finite' was renamed to 'ensure_all_finite' in 1.6 and will be removed in 1.8.\n",
            "  warnings.warn(\n"
          ]
        },
        {
          "output_type": "stream",
          "name": "stdout",
          "text": [
            "[LightGBM] [Info] Number of positive: 1619, number of negative: 1156\n",
            "[LightGBM] [Info] Auto-choosing row-wise multi-threading, the overhead of testing was 0.001791 seconds.\n",
            "You can set `force_row_wise=true` to remove the overhead.\n",
            "And if memory is not enough, you can set `force_col_wise=true`.\n",
            "[LightGBM] [Info] Total Bins 127\n",
            "[LightGBM] [Info] Number of data points in the train set: 2775, number of used features: 3\n",
            "[LightGBM] [Info] [binary:BoostFromScore]: pavg=0.500000 -> initscore=-0.000000\n",
            "[LightGBM] [Info] Start training from score -0.000000\n"
          ]
        },
        {
          "output_type": "stream",
          "name": "stderr",
          "text": [
            "/usr/local/lib/python3.11/dist-packages/sklearn/utils/deprecation.py:151: FutureWarning: 'force_all_finite' was renamed to 'ensure_all_finite' in 1.6 and will be removed in 1.8.\n",
            "  warnings.warn(\n"
          ]
        },
        {
          "output_type": "stream",
          "name": "stdout",
          "text": [
            "XGBoost Accuracy: 0.5720461095100865\n",
            "              precision    recall  f1-score   support\n",
            "\n",
            "           0       0.42      0.07      0.12       289\n",
            "           1       0.58      0.93      0.72       405\n",
            "\n",
            "    accuracy                           0.57       694\n",
            "   macro avg       0.50      0.50      0.42       694\n",
            "weighted avg       0.51      0.57      0.47       694\n",
            "\n",
            "LightGBM Accuracy: 0.5331412103746398\n",
            "              precision    recall  f1-score   support\n",
            "\n",
            "           0       0.45      0.50      0.47       289\n",
            "           1       0.61      0.56      0.58       405\n",
            "\n",
            "    accuracy                           0.53       694\n",
            "   macro avg       0.53      0.53      0.53       694\n",
            "weighted avg       0.54      0.53      0.54       694\n",
            "\n",
            "CatBoost Accuracy: 0.5806916426512968\n",
            "              precision    recall  f1-score   support\n",
            "\n",
            "           0       0.33      0.01      0.01       289\n",
            "           1       0.58      0.99      0.73       405\n",
            "\n",
            "    accuracy                           0.58       694\n",
            "   macro avg       0.46      0.50      0.37       694\n",
            "weighted avg       0.48      0.58      0.43       694\n",
            "\n",
            "Mô hình đã lưu thành công!\n"
          ]
        }
      ]
    },
    {
      "cell_type": "markdown",
      "source": [
        "## 2. Deep learning approach:"
      ],
      "metadata": {
        "id": "-o-6Iv_CmSdM"
      }
    },
    {
      "cell_type": "markdown",
      "source": [
        "### 2.1. Feature extraction algorithms:"
      ],
      "metadata": {
        "id": "bc0GcXYgnZGJ"
      }
    },
    {
      "cell_type": "code",
      "source": [
        "import cv2\n",
        "import numpy as np\n",
        "\n",
        "def detect_pseudoinclusion(img):\n",
        "    adaptive_thresh = cv2.adaptiveThreshold(img, 255, cv2.ADAPTIVE_THRESH_GAUSSIAN_C,\n",
        "                                            cv2.THRESH_BINARY_INV, 15, 5)\n",
        "    contours, _ = cv2.findContours(adaptive_thresh, cv2.RETR_EXTERNAL, cv2.CHAIN_APPROX_SIMPLE)\n",
        "    return len(contours)\n",
        "\n",
        "def detect_watershed_regions(img):\n",
        "    blurred = cv2.GaussianBlur(img, (5, 5), 0)\n",
        "    _, thresh = cv2.threshold(blurred, 0, 255, cv2.THRESH_BINARY + cv2.THRESH_OTSU)\n",
        "\n",
        "    kernel = np.ones((3, 3), np.uint8)\n",
        "    sure_bg = cv2.dilate(thresh, kernel, iterations=2)\n",
        "    dist_transform = cv2.distanceTransform(thresh, cv2.DIST_L2, 5)\n",
        "    _, sure_fg = cv2.threshold(dist_transform, 0.5 * dist_transform.max(), 255, 0)\n",
        "\n",
        "    sure_fg = np.uint8(sure_fg)\n",
        "\n",
        "    unknown = cv2.subtract(sure_bg, sure_fg)\n",
        "\n",
        "    _, markers = cv2.connectedComponents(sure_fg)\n",
        "    markers += 1\n",
        "    markers[unknown == 255] = 0\n",
        "\n",
        "    img_color = cv2.cvtColor(img, cv2.COLOR_GRAY2BGR)\n",
        "    cv2.watershed(img_color, markers)\n",
        "\n",
        "    num_regions = len(np.unique(markers)) - 2\n",
        "\n",
        "    return num_regions\n",
        "\n",
        "def detect_histogram_peaks(img):\n",
        "    hist = cv2.calcHist([img], [0], None, [256], [0, 256])\n",
        "    hist = hist.flatten()\n",
        "    return np.count_nonzero((hist[1:-1] > hist[:-2]) & (hist[1:-1] > hist[2:]))"
      ],
      "metadata": {
        "id": "RchoBdW_LMD8"
      },
      "execution_count": 90,
      "outputs": []
    },
    {
      "cell_type": "markdown",
      "source": [
        "### 2.2. Data prepare:"
      ],
      "metadata": {
        "id": "4TGfijHg2WIL"
      }
    },
    {
      "cell_type": "markdown",
      "source": [
        "Dataset:"
      ],
      "metadata": {
        "id": "1Gv35Gyc1oZx"
      }
    },
    {
      "cell_type": "code",
      "source": [
        "from torch.utils.data import Dataset\n",
        "import json\n",
        "from PIL import Image\n",
        "import cv2\n",
        "\n",
        "class CellDataset(Dataset):\n",
        "  def __init__(self, img_dir, label_dir, transform=None, get_cv_img=False):\n",
        "    self.img_dir = img_dir\n",
        "    self.label_dir = label_dir\n",
        "    self.transform = transform\n",
        "    self.get_cv_img = get_cv_img\n",
        "\n",
        "    self.images = [f for f in os.listdir(img_dir) if f.endswith('.jpg')]\n",
        "    self.labels = torch.zeros(len(self.images))\n",
        "    with open(label_dir, 'r') as f:\n",
        "      labels = json.load(f)\n",
        "      for idx, img in enumerate(self.images):\n",
        "        self.labels[idx] = int(labels[img[:-4]]['label'][2])\n",
        "\n",
        "  def __len__(self):\n",
        "    return len(self.images)\n",
        "\n",
        "  def __getitem__(self, idx):\n",
        "    img_path = os.path.join(self.img_dir, self.images[idx])\n",
        "    pil_img = Image.open(img_path).convert('RGB')\n",
        "    label = self.labels[idx]\n",
        "\n",
        "    if self.transform:\n",
        "      pil_img = self.transform(pil_img)\n",
        "\n",
        "    if self.get_cv_img:\n",
        "      cv_img = cv2.imread(img_path, cv2.IMREAD_GRAYSCALE)\n",
        "      return pil_img, cv_img, label\n",
        "\n",
        "    return pil_img, label"
      ],
      "metadata": {
        "id": "iXQ8GNqO1pOl"
      },
      "execution_count": 164,
      "outputs": []
    },
    {
      "cell_type": "markdown",
      "source": [
        "Statistics on dataset:"
      ],
      "metadata": {
        "id": "9MtV_gll16Pn"
      }
    },
    {
      "cell_type": "code",
      "source": [
        "import torch\n",
        "import torchvision.transforms as transforms\n",
        "from torch.utils.data import DataLoader\n",
        "\n",
        "# Định nghĩa transform để chỉ chuyển ảnh thành tensor (chưa normalize)\n",
        "transform = transforms.Compose([\n",
        "    transforms.Resize((32, 32)),\n",
        "    transforms.Grayscale(),\n",
        "    transforms.ToTensor()\n",
        "])\n",
        "\n",
        "# Load dataset (giả sử ảnh nằm trong thư mục \"dataset\")\n",
        "img_dir = '/content/image_with_points'\n",
        "labels_file = '/content/image_with_points/labels.json'\n",
        "dataset = CellDataset(img_dir, labels_file, transform=transform)\n",
        "dataloader = DataLoader(dataset, batch_size=16, shuffle=False)\n",
        "\n",
        "# Khởi tạo biến để tính mean và std\n",
        "mean = torch.zeros(1)\n",
        "std = torch.zeros(1)\n",
        "total_images = 0\n",
        "\n",
        "# Tính mean và std theo từng batch\n",
        "for images, _ in dataloader:\n",
        "    batch_samples = images.size(0)  # Số lượng ảnh trong batch\n",
        "    images = images.view(batch_samples, 1, -1)  # Đưa về tensor (batch, channels, pixels)\n",
        "\n",
        "    mean += images.mean(dim=[0, 2])  # Tính mean theo từng channel\n",
        "    std += images.std(dim=[0, 2])  # Tính std theo từng channel\n",
        "    total_images += batch_samples\n",
        "\n",
        "# Lấy giá trị trung bình của mean và std\n",
        "mean /= total_images\n",
        "std /= total_images\n",
        "\n",
        "print(f\"Mean: {mean.tolist()}\")\n",
        "print(f\"Std: {std.tolist()}\")"
      ],
      "metadata": {
        "colab": {
          "base_uri": "https://localhost:8080/"
        },
        "id": "ERHFSmnT13uz",
        "outputId": "c102b2e4-7169-4a76-e924-8bd4e8cf90e9"
      },
      "execution_count": 165,
      "outputs": [
        {
          "output_type": "stream",
          "name": "stdout",
          "text": [
            "Mean: [0.03826478123664856]\n",
            "Std: [0.01938425563275814]\n"
          ]
        }
      ]
    },
    {
      "cell_type": "markdown",
      "source": [
        "Prepare dataset for training LeNet5 backbone:"
      ],
      "metadata": {
        "id": "2mVnfJxQ2HuJ"
      }
    },
    {
      "cell_type": "code",
      "source": [
        "import os\n",
        "import torch\n",
        "import torch.nn as nn\n",
        "import torch.optim as optim\n",
        "import torchvision.transforms as transforms\n",
        "from torch.utils.data import DataLoader\n",
        "from torch.utils.data import random_split\n",
        "\n",
        "transform = transforms.Compose([\n",
        "    transforms.Resize((32,32)),\n",
        "    transforms.Grayscale(num_output_channels=1),\n",
        "    transforms.ToTensor(),\n",
        "    transforms.Normalize(mean, std)\n",
        "])\n",
        "\n",
        "img_dir = '/content/image_with_points'\n",
        "labels_file = '/content/image_with_points/labels.json'\n",
        "dataset = CellDataset(img_dir, labels_file, transform=transform)\n",
        "\n",
        "generator1 = torch.Generator().manual_seed(42)\n",
        "train_set, val_set = random_split(dataset, lengths=[0.8, 0.2], generator=generator1)\n",
        "train_loader = DataLoader(train_set, batch_size=16, shuffle=True)\n",
        "val_loader = DataLoader(val_set, batch_size=16, shuffle=False)"
      ],
      "metadata": {
        "id": "iHrrLWFd2GU2"
      },
      "execution_count": 166,
      "outputs": []
    },
    {
      "cell_type": "markdown",
      "source": [
        "Label balancing:"
      ],
      "metadata": {
        "id": "IAQNLLhI2N1U"
      }
    },
    {
      "cell_type": "code",
      "source": [
        "import matplotlib.pyplot as plt\n",
        "import seaborn as sns\n",
        "\n",
        "train_labels = []\n",
        "val_labels = []\n",
        "for _, labels in train_loader:\n",
        "  train_labels.extend(labels.numpy())\n",
        "for _, labels in val_loader:\n",
        "  val_labels.extend(labels.numpy())\n",
        "\n",
        "sns.set_style(\"whitegrid\")\n",
        "\n",
        "plt.figure(figsize=(6, 4))\n",
        "plt.subplot(1,2,1)\n",
        "sns.histplot(train_labels, bins=2, kde=False, color=\"#3498db\", edgecolor=\"black\")\n",
        "plt.xticks([0, 1], labels=[\"Class 0\", \"Class 1\"], fontsize=12)\n",
        "plt.title(\"Train Labels\", fontsize=14, fontweight=\"bold\")\n",
        "\n",
        "plt.subplot(1,2,2)\n",
        "sns.histplot(val_labels, bins=2, kde=False, color=\"#3498db\", edgecolor=\"black\")\n",
        "plt.xticks([0, 1], labels=[\"Class 0\", \"Class 1\"], fontsize=12)\n",
        "plt.title(\"Val Labels\", fontsize=14, fontweight=\"bold\")\n",
        "\n",
        "plt.tight_layout()\n",
        "plt.show()"
      ],
      "metadata": {
        "colab": {
          "base_uri": "https://localhost:8080/",
          "height": 407
        },
        "id": "VYlmfLqp2NS0",
        "outputId": "f48ac211-58b5-4a76-d2ec-b16b1c3fe0ec"
      },
      "execution_count": 167,
      "outputs": [
        {
          "output_type": "display_data",
          "data": {
            "text/plain": [
              "<Figure size 600x400 with 2 Axes>"
            ],
            "image/png": "[encoded data removed]"
          },
          "metadata": {}
        }
      ]
    },
    {
      "cell_type": "markdown",
      "source": [
        "### 2.3. Train model:"
      ],
      "metadata": {
        "id": "Yq9igNh82i4e"
      }
    },
    {
      "cell_type": "markdown",
      "source": [
        "#### Helper function:"
      ],
      "metadata": {
        "id": "theSdee65wDl"
      }
    },
    {
      "cell_type": "code",
      "source": [
        "import matplotlib.pyplot as plt\n",
        "\n",
        "def losses_accuracies_visualize(train_losses, val_losses, train_accuracies, val_accuracies, save_path):\n",
        "  plt.figure(figsize=(16, 6))\n",
        "  sns.set_style(\"whitegrid\")  # Thêm nền grid nhẹ\n",
        "\n",
        "  # Vẽ đường train loss\n",
        "  sns.lineplot(x=range(1, len(train_losses)+1), y=train_losses, marker='o', linestyle='-', color='red', label=\"Train Loss\")\n",
        "\n",
        "  # Vẽ đường val loss\n",
        "  sns.lineplot(x=range(1, len(val_losses)+1), y=val_losses, marker='s', linestyle='--', color='blue', label=\"Validation Loss\")\n",
        "\n",
        "  # Tùy chỉnh biểu đồ\n",
        "  plt.title(\"Train vs Validation Loss\", fontsize=14, fontweight=\"bold\")\n",
        "  plt.xlabel(\"Epoch\", fontsize=12)\n",
        "  plt.ylabel(\"Loss\", fontsize=12)\n",
        "  plt.xticks(range(1, len(train_losses)+1))\n",
        "  plt.legend(fontsize=12)\n",
        "  plt.grid(True, linestyle=\"--\", alpha=0.6)\n",
        "  plt.savefig(f'{save_path}/train_val_losses.png')\n",
        "  plt.show()\n",
        "\n",
        "  # train/val accuracies visualize\n",
        "  plt.figure(figsize=(20, 6))\n",
        "  sns.set_style(\"whitegrid\")  # Thêm nền grid nhẹ\n",
        "\n",
        "  # Vẽ đường train loss\n",
        "  sns.lineplot(x=range(1, len(train_accuracies)+1), y=train_accuracies, marker='o', linestyle='-', color='red', label=\"Train accuracy\")\n",
        "\n",
        "  # Vẽ đường val loss\n",
        "  sns.lineplot(x=range(1, len(val_accuracies)+1), y=val_accuracies, marker='s', linestyle='--', color='blue', label=\"Validation accuracy\")\n",
        "\n",
        "  # Tùy chỉnh biểu đồ\n",
        "  plt.title(\"Train vs Validation Accuracy\", fontsize=14, fontweight=\"bold\")\n",
        "  plt.xlabel(\"Epoch\", fontsize=12)\n",
        "  plt.ylabel(\"Accuracy\", fontsize=12)\n",
        "  plt.xticks(range(1, len(train_accuracies)+1))\n",
        "  plt.legend(fontsize=12)\n",
        "  plt.grid(True, linestyle=\"--\", alpha=0.6)\n",
        "  plt.savefig(f'{save_path}/train_val_accuracies.png')\n",
        "  plt.show()"
      ],
      "metadata": {
        "id": "YDS_OjRh5xp2"
      },
      "execution_count": 101,
      "outputs": []
    },
    {
      "cell_type": "markdown",
      "source": [
        "#### a. LeNet5 XGBoost - VERSION 1:"
      ],
      "metadata": {
        "id": "DvUJw6z0ndpJ"
      }
    },
    {
      "cell_type": "markdown",
      "source": [
        "Model architecture:"
      ],
      "metadata": {
        "id": "BBsHASsD3Z4W"
      }
    },
    {
      "cell_type": "code",
      "source": [
        "import numpy as np\n",
        "import torch.nn as nn\n",
        "import torch.nn.functional as F\n",
        "\n",
        "class LeNet(nn.Module):\n",
        "    # network structure\n",
        "    def __init__(self):\n",
        "        super(LeNet, self).__init__()\n",
        "        self.conv1 = nn.Conv2d(1, 6, 5, padding=0)\n",
        "        self.conv2 = nn.Conv2d(6, 16, 5)\n",
        "        self.fc1   = nn.Linear(16*5*5, 120)\n",
        "        self.fc2   = nn.Linear(120, 84)\n",
        "        self.fc3   = nn.Linear(84, 1)\n",
        "        self.dropout = nn.Dropout()\n",
        "\n",
        "    def forward(self, x):\n",
        "        x = F.max_pool2d(F.relu(self.conv1(x)), (2, 2))\n",
        "        x = F.max_pool2d(F.relu(self.conv2(x)), (2, 2))\n",
        "        x = x.view(-1, self.num_flat_features(x))\n",
        "        x = self.dropout(F.relu(self.fc1(x)))\n",
        "        x = F.relu(self.fc2(x))\n",
        "        return self.fc3(x)\n",
        "\n",
        "    def num_flat_features(self, x):\n",
        "        size = x.size()[1:]\n",
        "        return np.prod(size)"
      ],
      "metadata": {
        "id": "ahT7hFVQKDy6"
      },
      "execution_count": 168,
      "outputs": []
    },
    {
      "cell_type": "markdown",
      "source": [
        "Training loops:"
      ],
      "metadata": {
        "id": "ywBJQfE03cOJ"
      }
    },
    {
      "cell_type": "code",
      "source": [
        "# train LeNet on classification task\n",
        "import os\n",
        "\n",
        "save_path = f'/content/drive/MyDrive/data/cell_prediction/train/feature3_v1'\n",
        "if not os.path.exists(save_path):\n",
        "  os.makedirs(save_path)\n",
        "\n",
        "# prepare model\n",
        "device = torch.device('cuda' if torch.cuda.is_available() else 'cpu')\n",
        "model = LeNet().to(device)\n",
        "criterion = nn.BCEWithLogitsLoss()\n",
        "optimizer = optim.AdamW(model.parameters(), lr=0.001, weight_decay=1e-4)\n",
        "\n",
        "best_val_accuracy = 0.0\n",
        "\n",
        "# save epoch losses, accuracies for visualization\n",
        "train_losses, val_losses, train_accuracies, val_accuracies = [], [], [], []\n",
        "\n",
        "# for early stopping\n",
        "patience = 10\n",
        "patience_count = 0\n",
        "\n",
        "# training loops\n",
        "for epoch in range(num_epochs):\n",
        "  model.train()\n",
        "  train_loss, correct, total = 0.0, 0, 0\n",
        "  for imgs, labels in train_loader:\n",
        "    imgs, labels = imgs.to(device), labels.reshape((labels.shape[0], 1)).to(device)\n",
        "\n",
        "    # forward pass\n",
        "    optimizer.zero_grad()\n",
        "    outputs = model(imgs)\n",
        "    loss = criterion(outputs, labels)\n",
        "    train_loss += loss.item()\n",
        "    correct += (torch.round(torch.sigmoid(outputs)) == labels).sum().item()\n",
        "    total += labels.size(0)\n",
        "\n",
        "    # update weights\n",
        "    loss.backward()\n",
        "    optimizer.step()\n",
        "\n",
        "  train_loss /= len(train_loader)\n",
        "  train_losses.append(train_loss)\n",
        "  train_accuracy = correct / total\n",
        "  train_accuracies.append(train_accuracy)\n",
        "\n",
        "  # evaluate\n",
        "  model.eval()\n",
        "  val_loss, correct, total = 0.0, 0, 0\n",
        "  with torch.no_grad():\n",
        "    for imgs, labels in val_loader:\n",
        "      imgs, labels = imgs.to(device), labels.reshape((labels.shape[0], 1)).to(device)\n",
        "\n",
        "      outputs = model(imgs)\n",
        "      loss = criterion(outputs, labels)\n",
        "      val_loss += loss.item()\n",
        "      total += labels.size(0)\n",
        "      correct += (torch.round(torch.sigmoid(outputs)) == labels).sum().item()\n",
        "\n",
        "    val_accuracy = correct / total\n",
        "    val_loss /= len(val_loader)\n",
        "    val_losses.append(val_loss)\n",
        "    val_accuracies.append(val_accuracy)\n",
        "\n",
        "    # print out epoch results\n",
        "    print(f'Epoch {epoch + 1}: train_loss={train_loss}, val_loss={val_loss}, train_accuracy={train_accuracy}, val_accuracy={val_accuracy}')\n",
        "\n",
        "    # early stopping\n",
        "    if val_accuracy > best_val_accuracy:\n",
        "      patience_count = 0\n",
        "      best_val_accuracy = val_accuracy\n",
        "      torch.save(model.state_dict(), f'{save_path}/best_weights.pth')\n",
        "    else:\n",
        "      patience_count += 1\n",
        "      if patience_count >= patience:\n",
        "        print(f'Early stopping at epoch {epoch + 1}')\n",
        "        torch.save(model.state_dict(), f'{save_path}/last_weights.pth')\n",
        "        break\n",
        "else:\n",
        "  torch.save(model.state_dict(), f'{save_path}/last_weights.pth')"
      ],
      "metadata": {
        "colab": {
          "base_uri": "https://localhost:8080/"
        },
        "id": "4cA5W6azwQht",
        "outputId": "c332c947-f1ff-4843-b25b-16fe9831df2f"
      },
      "execution_count": 189,
      "outputs": [
        {
          "output_type": "stream",
          "name": "stdout",
          "text": [
            "Epoch 1: train_loss=0.6915943139585955, val_loss=0.6813036528500643, train_accuracy=0.5540345821325648, val_accuracy=0.6089466089466089\n",
            "Epoch 2: train_loss=0.6822677425954534, val_loss=0.6620243679393422, train_accuracy=0.5803314121037464, val_accuracy=0.6147186147186147\n",
            "Epoch 3: train_loss=0.6756590313609989, val_loss=0.6838086626746438, train_accuracy=0.593299711815562, val_accuracy=0.6031746031746031\n",
            "Epoch 4: train_loss=0.6754447341650381, val_loss=0.6581071229143576, train_accuracy=0.5918587896253602, val_accuracy=0.6118326118326118\n",
            "Epoch 5: train_loss=0.6722143874771294, val_loss=0.6652532429857687, train_accuracy=0.6023054755043228, val_accuracy=0.6060606060606061\n",
            "Epoch 6: train_loss=0.6700483526306591, val_loss=0.657392258671197, train_accuracy=0.6059077809798271, val_accuracy=0.6060606060606061\n",
            "Epoch 7: train_loss=0.6656609304334925, val_loss=0.6632577844641425, train_accuracy=0.6051873198847262, val_accuracy=0.6103896103896104\n",
            "Epoch 8: train_loss=0.6606601219752739, val_loss=0.6518900374119933, train_accuracy=0.6156340057636888, val_accuracy=0.6219336219336219\n",
            "Epoch 9: train_loss=0.6547888603018618, val_loss=0.6668524193492803, train_accuracy=0.6257204610951008, val_accuracy=0.6031746031746031\n",
            "Epoch 10: train_loss=0.651221330481014, val_loss=0.6899594000794671, train_accuracy=0.6123919308357348, val_accuracy=0.6060606060606061\n",
            "Epoch 11: train_loss=0.6454474439566162, val_loss=0.669202870266004, train_accuracy=0.6300432276657061, val_accuracy=0.6089466089466089\n",
            "Epoch 12: train_loss=0.6422313263361481, val_loss=0.6870603717186234, train_accuracy=0.6340057636887608, val_accuracy=0.6060606060606061\n",
            "Epoch 13: train_loss=0.6343531603443211, val_loss=0.6703213378787041, train_accuracy=0.6451729106628242, val_accuracy=0.6075036075036075\n",
            "Epoch 14: train_loss=0.6279537956947567, val_loss=0.7098050544207747, train_accuracy=0.645893371757925, val_accuracy=0.6031746031746031\n",
            "Epoch 15: train_loss=0.6180231995966242, val_loss=0.6860552050850608, train_accuracy=0.656700288184438, val_accuracy=0.6031746031746031\n",
            "Epoch 16: train_loss=0.615295016046228, val_loss=0.6767361096360467, train_accuracy=0.6642651296829971, val_accuracy=0.6118326118326118\n",
            "Epoch 17: train_loss=0.6043449929733385, val_loss=0.7204986363649368, train_accuracy=0.6631844380403458, val_accuracy=0.5844155844155844\n",
            "Epoch 18: train_loss=0.5920512033947583, val_loss=0.7235716838728298, train_accuracy=0.6804755043227666, val_accuracy=0.5945165945165946\n",
            "Early stopping at epoch 18\n"
          ]
        }
      ]
    },
    {
      "cell_type": "markdown",
      "source": [
        "Training process visualization:"
      ],
      "metadata": {
        "id": "VY7f4cPckNzT"
      }
    },
    {
      "cell_type": "code",
      "source": [
        "losses_accuracies_visualize(train_losses, val_losses, train_accuracies, val_accuracies, save_path)"
      ],
      "metadata": {
        "colab": {
          "base_uri": "https://localhost:8080/",
          "height": 848
        },
        "id": "OFFixu-7kPkb",
        "outputId": "64c70dee-b2ac-40b9-ee5a-d9cf4f419e66"
      },
      "execution_count": 190,
      "outputs": [
        {
          "output_type": "display_data",
          "data": {
            "text/plain": [
              "<Figure size 1600x600 with 1 Axes>"
            ],
            "image/png": "[encoded data removed]"
          },
          "metadata": {}
        },
        {
          "output_type": "display_data",
          "data": {
            "text/plain": [
              "<Figure size 2000x600 with 1 Axes>"
            ],
            "image/png": "[encoded data removed]"
          },
          "metadata": {}
        }
      ]
    },
    {
      "cell_type": "markdown",
      "source": [
        "Create feature extractor:"
      ],
      "metadata": {
        "id": "8LWeRO6pcmrX"
      }
    },
    {
      "cell_type": "code",
      "source": [
        "import torch\n",
        "class FeatureExtractor(nn.Module):\n",
        "  def __init__(self, backbone_weights):\n",
        "    super().__init__()\n",
        "    self.backbone = LeNet()\n",
        "    self.backbone.load_state_dict(torch.load(backbone_weights))\n",
        "    self.backbone.fc3 = nn.Identity()\n",
        "\n",
        "  def forward(self, x):\n",
        "    return self.backbone(x)"
      ],
      "metadata": {
        "id": "CLpxPNt99TPt"
      },
      "execution_count": 172,
      "outputs": []
    },
    {
      "cell_type": "code",
      "source": [
        "# feature extraction\n",
        "import numpy as np\n",
        "from sklearn.model_selection import train_test_split\n",
        "from sklearn.preprocessing import StandardScaler\n",
        "\n",
        "# create dataset\n",
        "transform = transforms.Compose([\n",
        "    transforms.Resize((32,32)),\n",
        "    transforms.Grayscale(num_output_channels=1),\n",
        "    transforms.ToTensor(),\n",
        "    transforms.Normalize(mean, std)\n",
        "])\n",
        "\n",
        "img_dir = '/content/image_with_points'\n",
        "labels_file = '/content/image_with_points/labels.json'\n",
        "dataset = CellDataset(img_dir, labels_file, transform=transform, get_cv_img=True)\n",
        "\n",
        "# create feature extractor\n",
        "device = torch.device('cuda' if torch.cuda.is_available() else 'cpu')\n",
        "\n",
        "X = None\n",
        "y = np.zeros(len(dataset), dtype=np.int8)\n",
        "model = FeatureExtractor('/content/drive/MyDrive/data/cell_prediction/train/feature3_v1/best.pth').to(device)\n",
        "model.eval()\n",
        "with torch.no_grad():\n",
        "  for idx, (pil_img, cv_img, label) in enumerate(dataset):\n",
        "    pil_img = pil_img.unsqueeze(0).to(device)\n",
        "    # feature from lenet\n",
        "    deep_features = model(pil_img).cpu().numpy().squeeze()\n",
        "\n",
        "    # feature from algorithms\n",
        "    pseudoinclusion_value = detect_pseudoinclusion(cv_img)\n",
        "    watershed_value = detect_watershed_regions(cv_img)\n",
        "    histogram_peaks = detect_histogram_peaks(cv_img)\n",
        "\n",
        "    # combine together\n",
        "    features = np.append(deep_features, [pseudoinclusion_value, watershed_value, histogram_peaks])\n",
        "\n",
        "    # store features and labels\n",
        "    y[idx] = int(label)\n",
        "    if X is None:\n",
        "      X = features\n",
        "    else:\n",
        "      X = np.vstack((X, features))\n",
        "\n",
        "# train test split\n",
        "scaler = StandardScaler()\n",
        "X_scaled = scaler.fit_transform(X)\n",
        "X_train, X_test, y_train, y_test = train_test_split(X_scaled, y, test_size=0.2, random_state=42, stratify=y)"
      ],
      "metadata": {
        "colab": {
          "base_uri": "https://localhost:8080/"
        },
        "id": "baiy5vuLFYxd",
        "outputId": "f418074e-d8b1-49ca-b37f-5a7489aaa2fb"
      },
      "execution_count": 199,
      "outputs": [
        {
          "output_type": "stream",
          "name": "stderr",
          "text": [
            "<ipython-input-172-688e5cae3221>:6: FutureWarning: You are using `torch.load` with `weights_only=False` (the current default value), which uses the default pickle module implicitly. It is possible to construct malicious pickle data which will execute arbitrary code during unpickling (See https://github.com/pytorch/pytorch/blob/main/SECURITY.md#untrusted-models for more details). In a future release, the default value for `weights_only` will be flipped to `True`. This limits the functions that could be executed during unpickling. Arbitrary objects will no longer be allowed to be loaded via this mode unless they are explicitly allowlisted by the user via `torch.serialization.add_safe_globals`. We recommend you start setting `weights_only=True` for any use case where you don't have full control of the loaded file. Please open an issue on GitHub for any issues related to this experimental feature.\n",
            "  self.backbone.load_state_dict(torch.load(backbone_weights))\n"
          ]
        }
      ]
    },
    {
      "cell_type": "code",
      "source": [
        "from xgboost import XGBClassifier\n",
        "from sklearn.metrics import classification_report\n",
        "\n",
        "imbalance_ratio = np.bincount(y_train)[1] / np.bincount(y_train)[0]\n",
        "xgb_model = XGBClassifier(n_estimators=200, learning_rate=0.01, scale_pos_weight=imbalance_ratio, random_state=42)\n",
        "xgb_model.fit(X_train, y_train)\n",
        "xgb_preds = xgb_model.predict(X_test)\n",
        "\n",
        "with open(f\"{save_path}/classification_report.txt\", \"w\") as f:\n",
        "    report = classification_report(y_test, xgb_preds)\n",
        "    f.write(report)\n",
        "    print(report)"
      ],
      "metadata": {
        "colab": {
          "base_uri": "https://localhost:8080/"
        },
        "id": "xt34AbFTZbXe",
        "outputId": "24923c9d-d6cc-422e-f25d-fcce55922965"
      },
      "execution_count": 205,
      "outputs": [
        {
          "output_type": "stream",
          "name": "stdout",
          "text": [
            "              precision    recall  f1-score   support\n",
            "\n",
            "           0       0.82      0.42      0.56       289\n",
            "           1       0.69      0.94      0.80       405\n",
            "\n",
            "    accuracy                           0.72       694\n",
            "   macro avg       0.76      0.68      0.68       694\n",
            "weighted avg       0.75      0.72      0.70       694\n",
            "\n"
          ]
        }
      ]
    },
    {
      "cell_type": "markdown",
      "source": [
        "Grid search:"
      ],
      "metadata": {
        "id": "k6x1RLYrjW7E"
      }
    },
    {
      "cell_type": "code",
      "source": [
        "from sklearn.model_selection import GridSearchCV\n",
        "from xgboost import XGBClassifier\n",
        "from sklearn.metrics import classification_report\n",
        "\n",
        "# Bộ tham số cần thử\n",
        "param_grid = {\n",
        "    'n_estimators': [100, 200, 300, 500, 1000, 1500],\n",
        "    'max_depth': [3, 5, 7],\n",
        "    'learning_rate': [0.01, 0.05, 0.1],\n",
        "    'subsample': [0.7, 0.8, 0.9],\n",
        "    'colsample_bytree': [0.7, 0.8, 0.9]\n",
        "}\n",
        "\n",
        "# Grid Search để tìm tham số tốt nhất\n",
        "xgb = XGBClassifier(random_state=42)\n",
        "grid_search = GridSearchCV(xgb, param_grid, cv=5, scoring='accuracy', n_jobs=-1)\n",
        "grid_search.fit(X_train, y_train)\n",
        "\n",
        "# Hiển thị kết quả tốt nhất\n",
        "print(\"Best XGBoost Parameters:\", grid_search.best_params_)\n",
        "print(\"Best XGBoost Accuracy:\", grid_search.best_score_)\n",
        "\n",
        "grid_pred = grid_search.predict(X_test)\n",
        "print(classification_report(y_test, grid_pred))\n",
        "\n",
        "with open(f\"{save_path}/grid_search_classification_report.txt\", \"w\") as f:\n",
        "    report = classification_report(y_test, grid_pred)\n",
        "    f.write(report)\n",
        "    print(report)"
      ],
      "metadata": {
        "colab": {
          "base_uri": "https://localhost:8080/"
        },
        "id": "9D5QptQ5jWpU",
        "outputId": "8a739425-ed12-42bc-e0f4-748df222c6f7"
      },
      "execution_count": 207,
      "outputs": [
        {
          "output_type": "stream",
          "name": "stdout",
          "text": [
            "Best XGBoost Parameters: {'colsample_bytree': 0.8, 'learning_rate': 0.01, 'max_depth': 7, 'n_estimators': 500, 'subsample': 0.8}\n",
            "Best XGBoost Accuracy: 0.6998198198198198\n",
            "              precision    recall  f1-score   support\n",
            "\n",
            "           0       0.71      0.49      0.58       289\n",
            "           1       0.70      0.86      0.77       405\n",
            "\n",
            "    accuracy                           0.71       694\n",
            "   macro avg       0.71      0.68      0.68       694\n",
            "weighted avg       0.71      0.71      0.69       694\n",
            "\n",
            "              precision    recall  f1-score   support\n",
            "\n",
            "           0       0.71      0.49      0.58       289\n",
            "           1       0.70      0.86      0.77       405\n",
            "\n",
            "    accuracy                           0.71       694\n",
            "   macro avg       0.71      0.68      0.68       694\n",
            "weighted avg       0.71      0.71      0.69       694\n",
            "\n"
          ]
        }
      ]
    }
  ]
}