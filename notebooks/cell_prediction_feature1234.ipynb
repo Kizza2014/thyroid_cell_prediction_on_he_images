{
  "nbformat": 4,
  "nbformat_minor": 0,
  "metadata": {
    "colab": {
      "provenance": [],
      "include_colab_link": true
    },
    "kernelspec": {
      "name": "python3",
      "display_name": "Python 3"
    },
    "language_info": {
      "name": "python"
    }
  },
  "cells": [
    {
      "cell_type": "markdown",
      "metadata": {
        "id": "view-in-github",
        "colab_type": "text"
      },
      "source": [
        "<a href=\"https://colab.research.google.com/github/Kizza2014/thyroid_cell_prediction_on_he_images/blob/main/notebooks/cell_prediction_feature1234.ipynb\" target=\"_parent\"><img src=\"https://colab.research.google.com/assets/colab-badge.svg\" alt=\"Open In Colab\"/></a>"
      ]
    },
    {
      "cell_type": "code",
      "execution_count": 1,
      "metadata": {
        "id": "Z88a72V0v7Oc"
      },
      "outputs": [],
      "source": [
        "import cv2\n",
        "import numpy as np\n",
        "import pandas as pd\n",
        "import os\n",
        "import json\n",
        "from scipy.fftpack import fft2"
      ]
    },
    {
      "cell_type": "code",
      "source": [
        "from google.colab import drive\n",
        "drive.mount('/content/drive')"
      ],
      "metadata": {
        "colab": {
          "base_uri": "https://localhost:8080/"
        },
        "id": "8sHvzbpZxhkm",
        "outputId": "708063fe-f23b-4f86-f1de-aad654ac278c"
      },
      "execution_count": 2,
      "outputs": [
        {
          "output_type": "stream",
          "name": "stdout",
          "text": [
            "Mounted at /content/drive\n"
          ]
        }
      ]
    },
    {
      "cell_type": "code",
      "source": [
        "!unzip -q /content/drive/MyDrive/data/cell_prediction/image_with_points.zip -d /content/"
      ],
      "metadata": {
        "collapsed": true,
        "id": "ZAJfevFgyNFG"
      },
      "execution_count": 3,
      "outputs": []
    },
    {
      "cell_type": "markdown",
      "source": [
        "## 1. Đặc trưng 1: Nhân hình oval,..."
      ],
      "metadata": {
        "id": "uiC-Pa4LKU-E"
      }
    },
    {
      "cell_type": "markdown",
      "source": [
        "##### Helper function để trích xuất đặc trưng:"
      ],
      "metadata": {
        "id": "NX05GXMZKPZb"
      }
    },
    {
      "cell_type": "code",
      "source": [
        "# helper functions\n",
        "from typing import List, Tuple\n",
        "from shapely.geometry import Polygon, LineString\n",
        "import math\n",
        "\n",
        "def geo_area(cells_list: List[Polygon]) -> List[float]:\n",
        "    areas = []\n",
        "    for i in range(0, len(cells_list)):\n",
        "        areas.append(cells_list[i].area)\n",
        "    return areas\n",
        "\n",
        "def geo_solidity(cells_list: List[Polygon]) -> List[float]:\n",
        "    solidit = []\n",
        "    for i in range(0, len(cells_list)):\n",
        "        solidit.append((cells_list[i].area) / ((cells_list[i].convex_hull).area))\n",
        "\n",
        "    return solidit\n",
        "\n",
        "def geo_eccentricity(cells_list: List[Polygon]) -> List[float]:\n",
        "    eccentr = []\n",
        "    for i in range(0, len(cells_list)):\n",
        "        points = list(zip(*cells_list[i].minimum_rotated_rectangle.exterior.coords.xy))\n",
        "        lengths = [\n",
        "            LineString((points[j], points[j + 1])).length\n",
        "            for j in range(len(points) - 1)\n",
        "        ]\n",
        "\n",
        "        # get major/minor axis measurements\n",
        "        min_axis = min(lengths)\n",
        "        max_axis = max(lengths)\n",
        "        a = max_axis / 2\n",
        "        b = min_axis / 2\n",
        "\n",
        "        eccentr.append(np.sqrt(np.square(a) - np.square(b)) / a)\n",
        "\n",
        "    return eccentr\n",
        "\n",
        "def geo_rotation(cells_list: List[Polygon]) -> List[float]:\n",
        "    rot_ang = []\n",
        "    for i in range(0, len(cells_list)):\n",
        "\n",
        "        rect = np.array(cells_list[i].minimum_rotated_rectangle.exterior.coords)\n",
        "        edges = []\n",
        "        for d in np.diff(rect, axis=0):\n",
        "            length = np.sqrt(d[0] ** 2 + d[1] ** 2)\n",
        "            angle = np.arctan2(d[1], d[0])\n",
        "            edges.append([length, angle])\n",
        "\n",
        "        edges = np.array(edges)\n",
        "        angle_value = edges[np.argmax(edges[:, 0])][1]\n",
        "        # Check if the angle is between -pi/2 and pi/2\n",
        "        if angle_value > np.pi / 2:\n",
        "            angle_value -= np.pi\n",
        "        elif angle_value < -np.pi / 2:\n",
        "            angle_value += np.pi\n",
        "        rot_ang.append(angle_value)\n",
        "\n",
        "    return rot_ang\n",
        "\n",
        "def geo_axis(cells_list: List[Polygon]) -> Tuple[List[float], List[float], List[float]]:\n",
        "    minor_axis = []\n",
        "    major_axis = []\n",
        "    aspect_ratio = []\n",
        "    for i in range(0, len(cells_list)):\n",
        "        mbr_points = list(\n",
        "            zip(*cells_list[i].minimum_rotated_rectangle.exterior.coords.xy)\n",
        "        )\n",
        "\n",
        "        # calculate the length of each side of the minimum bounding rectangle\n",
        "        mbr_lengths = [\n",
        "            LineString((mbr_points[i], mbr_points[i + 1])).length\n",
        "            for i in range(len(mbr_points) - 1)\n",
        "        ]\n",
        "\n",
        "        # get major/minor axis measurements\n",
        "        minor_axis.append(min(mbr_lengths))\n",
        "        major_axis.append(max(mbr_lengths))\n",
        "        aspect_ratio.append(max(mbr_lengths) / min(mbr_lengths))\n",
        "\n",
        "    return minor_axis, major_axis, aspect_ratio\n",
        "\n",
        "def geo_roundness(cells_list: List[Polygon]) -> List[float]:\n",
        "    roundness = []\n",
        "    for i in range(0, len(cells_list)):\n",
        "        mbr_points = list(\n",
        "            zip(*cells_list[i].minimum_rotated_rectangle.exterior.coords.xy)\n",
        "        )\n",
        "        # calculate the length of each side of the minimum bounding rectangle\n",
        "        mbr_lengths = [\n",
        "            LineString((mbr_points[i], mbr_points[i + 1])).length\n",
        "            for i in range(len(mbr_points) - 1)\n",
        "        ]\n",
        "        # get major/minor axis measurements\n",
        "        major_axis = max(mbr_lengths)\n",
        "        roundness.append(4 * (cells_list[i].area / (math.pi * (major_axis**2))))\n",
        "\n",
        "    return roundness\n",
        "\n",
        "def geo_perimeter(cells_list: List[Polygon]) -> List[float]:\n",
        "    perimeter = []\n",
        "    for i in range(0, len(cells_list)):\n",
        "        perimeter.append(cells_list[i].length)\n",
        "\n",
        "    return perimeter\n",
        "\n",
        "def geoSferVolume(cells_list: List[Polygon]) -> List[float]:\n",
        "    volume=[]\n",
        "    for i in range(0,len(cells_list)):\n",
        "        areas=cells_list[i].area\n",
        "        radius = math.sqrt(areas / (4 * math.pi))\n",
        "        V=(4/3)*math.pi * (radius ** 3)\n",
        "        volume.append(V)\n",
        "    return volume\n",
        "\n",
        "def geoEllisVolume(cells_list: List[Polygon]) -> List[float]:\n",
        "    volume=[]\n",
        "    minor_axis,major_axis,aspect_ratio=geo_axis(cells_list)\n",
        "    for i in range(0,(len(minor_axis))):\n",
        "        V= (4/3) * math.pi * ((minor_axis[i]/2) ** 2) * major_axis[i]/2\n",
        "        volume.append(V)\n",
        "    return volume"
      ],
      "metadata": {
        "id": "RtyHm2Hnm7Bf"
      },
      "execution_count": null,
      "outputs": []
    },
    {
      "cell_type": "markdown",
      "source": [
        "##### Bắt đầu trích xuất đặc trưng:"
      ],
      "metadata": {
        "id": "yW-qvlXOKcL_"
      }
    },
    {
      "cell_type": "code",
      "source": [
        "import cv2\n",
        "import numpy as np\n",
        "import pandas as pd\n",
        "import os\n",
        "from google.colab.patches import cv2_imshow\n",
        "import json\n",
        "from shapely.geometry import Polygon\n",
        "\n",
        "EXTRACT_FOLDER = \"/content/image_with_points\"\n",
        "\n",
        "# Thư mục chứa ảnh cần xử lý\n",
        "IMAGE_FOLDER = EXTRACT_FOLDER\n",
        "ANNOTATION_PATH = EXTRACT_FOLDER + '/' + 'labels.json'\n",
        "OUTPUT_CSV = \"/content/cell_features.csv\"\n",
        "\n",
        "# Hàm trích xuất đặc trưng hình dạng chỉ với contour bên ngoài nhân\n",
        "def extract_shape_features(image_path, polygon):\n",
        "  features = []\n",
        "  polygon = Polygon(polygon)\n",
        "  area = geo_area([polygon])[0]\n",
        "  solidity = geo_solidity([polygon])[0]\n",
        "  eccentricity = geo_eccentricity([polygon])[0]\n",
        "  rotation = geo_rotation([polygon])[0]\n",
        "  axis = geo_axis([polygon])\n",
        "  minor_axis = axis[0][0]\n",
        "  major_axis = axis[1][0]\n",
        "  aspect_ratio = axis[2][0]\n",
        "  roundness = geo_roundness([polygon])[0]\n",
        "  perimeter = geo_perimeter([polygon])[0]\n",
        "  ellisvolume = geoEllisVolume([polygon])[0]\n",
        "\n",
        "\n",
        "  features.append({\n",
        "      \"File\": os.path.basename(image_path),\n",
        "      'area': area,\n",
        "      'perimeter': perimeter,\n",
        "      'aspect_ratio': aspect_ratio,\n",
        "      'roundness': roundness,\n",
        "      'eccentricity': eccentricity,\n",
        "      'minor_axis': minor_axis,\n",
        "      'major_axis': major_axis,\n",
        "      'solidity': solidity,\n",
        "      'ellisvolume':ellisvolume,\n",
        "      'rotation': rotation\n",
        "  })\n",
        "  return features\n",
        "\n",
        "# Lặp qua toàn bộ ảnh trong thư mục\n",
        "all_features = []\n",
        "with open(os.path.join(IMAGE_FOLDER, 'labels.json'), 'r') as f:\n",
        "  labels = json.load(f)\n",
        "  for filename in os.listdir(IMAGE_FOLDER):\n",
        "      if filename.endswith(('.jpg', '.png', '.jpeg')):\n",
        "          image_path = os.path.join(IMAGE_FOLDER, filename)\n",
        "          polygon = labels[filename[:-4]]['polygon']\n",
        "          all_features.extend(extract_shape_features(image_path, polygon))\n",
        "\n",
        "# Lưu kết quả vào CSV\n",
        "df_features = pd.DataFrame(all_features)\n",
        "df_features.to_csv(OUTPUT_CSV, index=False)\n",
        "print(f\"Đã lưu đặc trưng vào {OUTPUT_CSV}\")"
      ],
      "metadata": {
        "colab": {
          "base_uri": "https://localhost:8080/"
        },
        "id": "9_TyAYkxs2zv",
        "outputId": "09e9a3cd-f2e8-42ae-f3d3-0c07389fda7c"
      },
      "execution_count": null,
      "outputs": [
        {
          "output_type": "stream",
          "name": "stdout",
          "text": [
            "Đã lưu đặc trưng vào /content/cell_features.csv\n"
          ]
        }
      ]
    },
    {
      "cell_type": "markdown",
      "source": [
        "#### Chuẩn bị dữ liệu huấn luyện:"
      ],
      "metadata": {
        "id": "s-gbfjXvc0ft"
      }
    },
    {
      "cell_type": "code",
      "source": [
        "import pandas as pd\n",
        "import json\n",
        "from sklearn.model_selection import train_test_split\n",
        "\n",
        "FEATURES_CSV = \"/content/cell_features.csv\"  # Thay thế bằng đường dẫn thực tế\n",
        "LABELS_JSON = \"/content/image_with_points/labels.json\"  # Thay thế bằng đường dẫn thực tế\n",
        "\n",
        "df_features = pd.read_csv(FEATURES_CSV)\n",
        "\n",
        "# Đọc file JSON chứa nhãn\n",
        "with open(LABELS_JSON, 'r') as f:\n",
        "    labels_data = json.load(f)\n",
        "\n",
        "# Tạo dictionary từ JSON để ánh xạ tên file với nhãn (loại bỏ đuôi file .jpg, .png, ...)\n",
        "labels_dict = {os.path.splitext(str(key))[0]: int(value['label'][0]) for key, value in labels_data.items()}  # Lấy đặc trưng đầu tiên\n",
        "\n",
        "# Thêm nhãn vào DataFrame (loại bỏ đuôi file trước khi ánh xạ)\n",
        "df_features[\"File_Name\"] = df_features[\"File\"].apply(lambda x: os.path.splitext(x)[0])\n",
        "df_features[\"Label\"] = df_features[\"File_Name\"].map(labels_dict)\n",
        "df_features.drop(columns=[\"File_Name\"], inplace=True)  # Xóa cột tạm thời\n",
        "\n",
        "df_features.dropna(inplace=True)  # Loại bỏ hàng thiếu nhãn\n",
        "df_features.to_csv(FEATURES_CSV, index=False)  # Lưu lại file với nhãn"
      ],
      "metadata": {
        "id": "1MWBA4AIc0Ip"
      },
      "execution_count": null,
      "outputs": []
    },
    {
      "cell_type": "markdown",
      "source": [
        "#### a. Logistics regression"
      ],
      "metadata": {
        "id": "0uEyE4eyKmu6"
      }
    },
    {
      "cell_type": "code",
      "source": [
        "from sklearn.linear_model import LogisticRegression\n",
        "from sklearn.metrics import accuracy_score, confusion_matrix\n",
        "\n",
        "# Chuẩn bị dữ liệu đầu vào\n",
        "X_logistics = df_features.drop(['File', 'Label'], axis=1)\n",
        "y_logistics = df_features[\"Label\"].astype(int)\n",
        "X_train, X_test, y_train, y_test = train_test_split(X, y, test_size=0.2, random_state=42)\n",
        "\n",
        "# Huấn luyện mô hình Logistic Regression\n",
        "model = LogisticRegression()\n",
        "model.fit(X_train, y_train)\n",
        "y_pred = model.predict(X_test)\n",
        "\n",
        "# Đánh giá mô hình\n",
        "accuracy = accuracy_score(y_test, y_pred)\n",
        "conf_matrix = confusion_matrix(y_test, y_pred)\n",
        "print(f\"Độ chính xác của mô hình: {accuracy:.4f}\")\n",
        "print(\"Ma trận nhầm lẫn:\")\n",
        "print(conf_matrix)\n",
        "\n",
        "# Phân tích lỗi\n",
        "true_negatives = conf_matrix[0, 0]  # Nhãn 0 được dự đoán đúng\n",
        "true_positives = conf_matrix[1, 1]  # Nhãn 1 được dự đoán đúng\n",
        "false_negatives = conf_matrix[1, 0]  # Nhãn 1 bị dự đoán thành 0\n",
        "false_positives = conf_matrix[0, 1]  # Nhãn 0 bị dự đoán thành 1\n",
        "\n",
        "print(f\"Số lượng nhãn 0 được dự đoán đúng: {true_negatives}\")\n",
        "print(f\"Số lượng nhãn 1 được dự đoán đúng: {true_positives}\")\n",
        "print(f\"Số lượng nhãn 0 bị dự đoán sai thành 1: {false_positives}\")\n",
        "print(f\"Số lượng nhãn 1 bị dự đoán sai thành 0: {false_negatives}\")\n",
        "\n",
        "# Xuất trọng số dự đoán\n",
        "weights = model.coef_[0]\n",
        "feature_names = X.columns\n",
        "weights_df = pd.DataFrame({\"Feature\": feature_names, \"Weight\": weights})\n",
        "weights_df.to_csv(\"model_weights.csv\", index=False)\n",
        "print(\"Trọng số của mô hình đã được lưu vào model_weights.csv\")"
      ],
      "metadata": {
        "colab": {
          "base_uri": "https://localhost:8080/"
        },
        "id": "0LqFZAF_RkMy",
        "outputId": "cb4e868c-2878-4105-865d-ddf26876ce1f"
      },
      "execution_count": null,
      "outputs": [
        {
          "output_type": "stream",
          "name": "stdout",
          "text": [
            "Độ chính xác của mô hình: 0.6527\n",
            "Ma trận nhầm lẫn:\n",
            "[[  9 232]\n",
            " [  9 444]]\n",
            "Số lượng nhãn 0 được dự đoán đúng: 9\n",
            "Số lượng nhãn 1 được dự đoán đúng: 444\n",
            "Số lượng nhãn 0 bị dự đoán sai thành 1: 232\n",
            "Số lượng nhãn 1 bị dự đoán sai thành 0: 9\n",
            "Trọng số của mô hình đã được lưu vào model_weights.csv\n"
          ]
        },
        {
          "output_type": "stream",
          "name": "stderr",
          "text": [
            "/usr/local/lib/python3.11/dist-packages/sklearn/linear_model/_logistic.py:465: ConvergenceWarning: lbfgs failed to converge (status=1):\n",
            "STOP: TOTAL NO. of ITERATIONS REACHED LIMIT.\n",
            "\n",
            "Increase the number of iterations (max_iter) or scale the data as shown in:\n",
            "    https://scikit-learn.org/stable/modules/preprocessing.html\n",
            "Please also refer to the documentation for alternative solver options:\n",
            "    https://scikit-learn.org/stable/modules/linear_model.html#logistic-regression\n",
            "  n_iter_i = _check_optimize_result(\n"
          ]
        }
      ]
    },
    {
      "cell_type": "markdown",
      "source": [
        "### b. XGBoost, Catboost"
      ],
      "metadata": {
        "id": "Toeo25v7KtH5"
      }
    },
    {
      "cell_type": "code",
      "source": [
        "!pip -q install catboost"
      ],
      "metadata": {
        "collapsed": true,
        "id": "n8rT-bncGq8L"
      },
      "execution_count": null,
      "outputs": []
    },
    {
      "cell_type": "code",
      "source": [
        "import pandas as pd\n",
        "import numpy as np\n",
        "from sklearn.model_selection import train_test_split\n",
        "from sklearn.preprocessing import StandardScaler, RobustScaler\n",
        "from xgboost import XGBClassifier\n",
        "from lightgbm import LGBMClassifier\n",
        "from catboost import CatBoostClassifier\n",
        "from sklearn.metrics import accuracy_score, classification_report\n",
        "\n",
        "# Đọc dữ liệu từ file Excel\n",
        "file_path = \"/content/cell_features.csv\"\n",
        "df = pd.read_csv(file_path)\n",
        "\n",
        "# Chuẩn hóa dữ liệu\n",
        "scaler = StandardScaler()\n",
        "# scaler = RobustScaler()\n",
        "X = df_features.drop(['File', 'Label'], axis=1)\n",
        "y = df_features['Label'].astype(int)\n",
        "X_scaled = scaler.fit_transform(X)\n",
        "\n",
        "# Chia tập train (80%) và test (20%)\n",
        "X_train, X_test, y_train, y_test = train_test_split(X_scaled, y, test_size=0.4, random_state=42, stratify=y)\n",
        "\n",
        "\n",
        "# Huấn luyện các mô hình mạnh hơn\n",
        "\n",
        "# Model 1: XGBoost\n",
        "xgb_model = XGBClassifier(n_estimators=2000, learning_rate=0.05, random_state=42, verbose=0)\n",
        "xgb_model.fit(X_train, y_train)\n",
        "xgb_preds = xgb_model.predict(X_test)\n",
        "\n",
        "# Model 2: LightGBM\n",
        "lgbm_model = LGBMClassifier(n_estimators=2000, learning_rate=0.01, random_state=42, verbose=0)\n",
        "lgbm_model.fit(X_train, y_train)\n",
        "lgbm_preds = lgbm_model.predict(X_test)\n",
        "\n",
        "# Model 3: CatBoost (Không cần chuẩn hóa dữ liệu)\n",
        "cat_model = CatBoostClassifier(iterations=2000, learning_rate=0.01, depth=6, random_seed=42, verbose=0)\n",
        "cat_model.fit(X_train, y_train)\n",
        "cat_preds = cat_model.predict(X_test)\n",
        "\n",
        "# Đánh giá mô hình\n",
        "print(\"XGBoost Accuracy:\", accuracy_score(y_test, xgb_preds))\n",
        "print(classification_report(y_test, xgb_preds))\n",
        "\n",
        "print(\"LightGBM Accuracy:\", accuracy_score(y_test, lgbm_preds))\n",
        "print(classification_report(y_test, lgbm_preds))\n",
        "\n",
        "print(\"CatBoost Accuracy:\", accuracy_score(y_test, cat_preds))\n",
        "print(classification_report(y_test, cat_preds))\n"
      ],
      "metadata": {
        "colab": {
          "base_uri": "https://localhost:8080/"
        },
        "id": "jdfFOwlq5N4n",
        "outputId": "6d59f2c9-d642-4c1c-89d2-43393a36a40f"
      },
      "execution_count": null,
      "outputs": [
        {
          "output_type": "stream",
          "name": "stderr",
          "text": [
            "/usr/local/lib/python3.11/dist-packages/xgboost/core.py:158: UserWarning: [03:44:46] WARNING: /workspace/src/learner.cc:740: \n",
            "Parameters: { \"verbose\" } are not used.\n",
            "\n",
            "  warnings.warn(smsg, UserWarning)\n",
            "/usr/local/lib/python3.11/dist-packages/sklearn/utils/deprecation.py:151: FutureWarning: 'force_all_finite' was renamed to 'ensure_all_finite' in 1.6 and will be removed in 1.8.\n",
            "  warnings.warn(\n",
            "/usr/local/lib/python3.11/dist-packages/sklearn/utils/deprecation.py:151: FutureWarning: 'force_all_finite' was renamed to 'ensure_all_finite' in 1.6 and will be removed in 1.8.\n",
            "  warnings.warn(\n"
          ]
        },
        {
          "output_type": "stream",
          "name": "stdout",
          "text": [
            "XGBoost Accuracy: 0.702449567723343\n",
            "              precision    recall  f1-score   support\n",
            "\n",
            "           0       0.55      0.49      0.52       456\n",
            "           1       0.76      0.81      0.78       932\n",
            "\n",
            "    accuracy                           0.70      1388\n",
            "   macro avg       0.66      0.65      0.65      1388\n",
            "weighted avg       0.69      0.70      0.70      1388\n",
            "\n",
            "LightGBM Accuracy: 0.7010086455331412\n",
            "              precision    recall  f1-score   support\n",
            "\n",
            "           0       0.56      0.44      0.49       456\n",
            "           1       0.75      0.83      0.79       932\n",
            "\n",
            "    accuracy                           0.70      1388\n",
            "   macro avg       0.65      0.64      0.64      1388\n",
            "weighted avg       0.69      0.70      0.69      1388\n",
            "\n",
            "CatBoost Accuracy: 0.7067723342939481\n",
            "              precision    recall  f1-score   support\n",
            "\n",
            "           0       0.57      0.44      0.49       456\n",
            "           1       0.75      0.84      0.79       932\n",
            "\n",
            "    accuracy                           0.71      1388\n",
            "   macro avg       0.66      0.64      0.64      1388\n",
            "weighted avg       0.69      0.71      0.70      1388\n",
            "\n"
          ]
        }
      ]
    },
    {
      "cell_type": "markdown",
      "source": [
        "Grid search:"
      ],
      "metadata": {
        "id": "nfE68NDTKyqC"
      }
    },
    {
      "cell_type": "code",
      "source": [
        "from sklearn.model_selection import GridSearchCV\n",
        "from xgboost import XGBClassifier\n",
        "\n",
        "# Bộ tham số cần thử\n",
        "param_grid = {\n",
        "    'n_estimators': [100, 200, 300, 500, 1000, 1500],\n",
        "    'max_depth': [3, 5, 7],\n",
        "    'learning_rate': [0.01, 0.05, 0.1],\n",
        "    'subsample': [0.7, 0.8, 0.9],\n",
        "    'colsample_bytree': [0.7, 0.8, 0.9]\n",
        "}\n",
        "\n",
        "# Grid Search để tìm tham số tốt nhất\n",
        "xgb = XGBClassifier(random_state=42)\n",
        "grid_search = GridSearchCV(xgb, param_grid, cv=5, scoring='accuracy', n_jobs=-1)\n",
        "grid_search.fit(X_train, y_train)\n",
        "\n",
        "# Hiển thị kết quả tốt nhất\n",
        "print(\"Best XGBoost Parameters:\", grid_search.best_params_)\n",
        "print(\"Best XGBoost Accuracy:\", grid_search.best_score_)\n"
      ],
      "metadata": {
        "colab": {
          "base_uri": "https://localhost:8080/"
        },
        "id": "g_PaTQnQ9v1j",
        "outputId": "701fd6fd-c085-4900-9e31-9420492b6f0c"
      },
      "execution_count": null,
      "outputs": [
        {
          "output_type": "stream",
          "name": "stdout",
          "text": [
            "Best XGBoost Parameters: {'colsample_bytree': 0.9, 'learning_rate': 0.01, 'max_depth': 3, 'n_estimators': 1500, 'subsample': 0.7}\n",
            "Best XGBoost Accuracy: 0.7304164360819037\n"
          ]
        }
      ]
    },
    {
      "cell_type": "code",
      "source": [
        "grid_pred = grid_search.predict(X_test)\n",
        "print(classification_report(y_test, grid_pred))"
      ],
      "metadata": {
        "colab": {
          "base_uri": "https://localhost:8080/"
        },
        "id": "PtihFcGIIwvE",
        "outputId": "e9f60e6a-a2ac-4a8a-9359-d35234f0284f"
      },
      "execution_count": null,
      "outputs": [
        {
          "output_type": "stream",
          "name": "stdout",
          "text": [
            "              precision    recall  f1-score   support\n",
            "\n",
            "           0       0.61      0.41      0.49       456\n",
            "           1       0.75      0.87      0.81       932\n",
            "\n",
            "    accuracy                           0.72      1388\n",
            "   macro avg       0.68      0.64      0.65      1388\n",
            "weighted avg       0.71      0.72      0.70      1388\n",
            "\n"
          ]
        }
      ]
    },
    {
      "cell_type": "markdown",
      "source": [
        "### c. SVM"
      ],
      "metadata": {
        "id": "RQMLvfHUGmfd"
      }
    },
    {
      "cell_type": "code",
      "source": [
        "from sklearn.svm import SVC\n",
        "from sklearn.model_selection import GridSearchCV\n",
        "from sklearn.model_selection import train_test_split\n",
        "\n",
        "# Đọc dữ liệu từ file Excel\n",
        "file_path = \"/content/cell_features.csv\"\n",
        "df = pd.read_csv(file_path)\n",
        "\n",
        "# Chuẩn hóa dữ liệu\n",
        "scaler = StandardScaler()\n",
        "# scaler = RobustScaler()\n",
        "X = df_features.drop(['File', 'Label'], axis=1)\n",
        "y = df_features['Label'].astype(int)\n",
        "X_scaled = scaler.fit_transform(X)\n",
        "\n",
        "# Chia tập train (80%) và test (20%)\n",
        "X_train, X_test, y_train, y_test = train_test_split(X_scaled, y, test_size=0.4, random_state=42, stratify=y)\n",
        "\n",
        "# 2. Định nghĩa bộ tham số cần thử nghiệm\n",
        "param_grid = {\n",
        "    'C': [0.1, 1, 10, 100],         # Giá trị khác nhau của C\n",
        "    'kernel': ['linear', 'rbf'],     # Chỉ thử nghiệm 2 loại kernel\n",
        "    'gamma': ['scale', 'auto', 0.01, 0.1, 1]  # Chỉ áp dụng khi kernel != 'linear'\n",
        "}\n",
        "\n",
        "# 3. Khởi tạo mô hình SVM\n",
        "svm = SVC()\n",
        "\n",
        "# 4. Dùng GridSearchCV để tìm bộ tham số tốt nhất\n",
        "grid_search = GridSearchCV(svm, param_grid, cv=5, scoring='accuracy', n_jobs=-1)\n",
        "grid_search.fit(X_train, y_train)\n",
        "\n",
        "# 5. In kết quả\n",
        "print(\"Best parameters:\", grid_search.best_params_)\n",
        "print(\"Best accuracy:\", grid_search.best_score_)\n",
        "svm_pred = grid_search.predict(X_test)\n",
        "print(classification_report(y_test, svm_pred))"
      ],
      "metadata": {
        "colab": {
          "base_uri": "https://localhost:8080/"
        },
        "id": "5WXh7iQmLH91",
        "outputId": "1ddf6d76-4a68-4db3-bc1e-022b8ec8fef5"
      },
      "execution_count": null,
      "outputs": [
        {
          "output_type": "stream",
          "name": "stdout",
          "text": [
            "Best parameters: {'C': 100, 'gamma': 'auto', 'kernel': 'rbf'}\n",
            "Best accuracy: 0.7361983490130972\n",
            "              precision    recall  f1-score   support\n",
            "\n",
            "           0       0.59      0.38      0.46       456\n",
            "           1       0.74      0.87      0.80       932\n",
            "\n",
            "    accuracy                           0.71      1388\n",
            "   macro avg       0.66      0.62      0.63      1388\n",
            "weighted avg       0.69      0.71      0.69      1388\n",
            "\n"
          ]
        }
      ]
    },
    {
      "cell_type": "markdown",
      "source": [
        "Feature selection:"
      ],
      "metadata": {
        "id": "cUWgQBQftlbV"
      }
    },
    {
      "cell_type": "code",
      "source": [
        "import pandas as pd\n",
        "import seaborn as sns\n",
        "import matplotlib.pyplot as plt\n",
        "\n",
        "# Giả sử df là DataFrame chứa dữ liệu\n",
        "corr_matrix = X.corr()\n",
        "\n",
        "# Vẽ heatmap để xem các cặp feature có tương quan cao\n",
        "plt.figure(figsize=(10, 8))\n",
        "sns.heatmap(corr_matrix, annot=True, cmap=\"coolwarm\", fmt=\".2f\")\n",
        "plt.show()\n"
      ],
      "metadata": {
        "colab": {
          "base_uri": "https://localhost:8080/",
          "height": 753
        },
        "id": "dYQZK-DEtSMX",
        "outputId": "7c673da9-e8b8-4cd2-8b23-ea0c437d9cf0"
      },
      "execution_count": null,
      "outputs": [
        {
          "output_type": "display_data",
          "data": {
            "text/plain": [
              "<Figure size 1000x800 with 2 Axes>"
            ],
            "image/png": "[encoded data removed]"
          },
          "metadata": {}
        }
      ]
    },
    {
      "cell_type": "code",
      "source": [
        "import pandas as pd\n",
        "import numpy as np\n",
        "from sklearn.model_selection import train_test_split\n",
        "from sklearn.preprocessing import StandardScaler, RobustScaler\n",
        "from xgboost import XGBClassifier\n",
        "from lightgbm import LGBMClassifier\n",
        "from catboost import CatBoostClassifier\n",
        "from sklearn.metrics import accuracy_score, classification_report\n",
        "\n",
        "# Đọc dữ liệu từ file Excel\n",
        "file_path = \"/content/cell_features.csv\"\n",
        "df = pd.read_csv(file_path)\n",
        "\n",
        "X_copy = X.drop(['ellisvolume', 'perimeter', 'minor_axis', 'major_axis'], axis=1)\n",
        "\n",
        "# Chuẩn hóa dữ liệu\n",
        "scaler = StandardScaler()\n",
        "# scaler = RobustScaler()\n",
        "X_scaled = scaler.fit_transform(X_copy)\n",
        "\n",
        "# Chia tập train (80%) và test (20%)\n",
        "X_train, X_test, y_train, y_test = train_test_split(X_scaled, y, test_size=0.4, random_state=42, stratify=y)\n",
        "\n",
        "# Huấn luyện các mô hình mạnh hơn\n",
        "\n",
        "# Model 1: XGBoost\n",
        "xgb_model = XGBClassifier(n_estimators=100, learning_rate=0.05, random_state=42)\n",
        "xgb_model.fit(X_train, y_train)\n",
        "xgb_preds = xgb_model.predict(X_test)\n",
        "\n",
        "# Model 2: LightGBM\n",
        "lgbm_model = LGBMClassifier(n_estimators=100, learning_rate=0.01, random_state=42)\n",
        "lgbm_model.fit(X_train, y_train)\n",
        "lgbm_preds = lgbm_model.predict(X_test)\n",
        "\n",
        "# Model 3: CatBoost (Không cần chuẩn hóa dữ liệu)\n",
        "cat_model = CatBoostClassifier(iterations=100, learning_rate=0.01, depth=6, random_seed=42, verbose=0)\n",
        "cat_model.fit(X_train, y_train)\n",
        "cat_preds = cat_model.predict(X_test)\n",
        "\n",
        "# Đánh giá mô hình\n",
        "print(\"XGBoost Accuracy:\", accuracy_score(y_test, xgb_preds))\n",
        "print(classification_report(y_test, xgb_preds))\n",
        "\n",
        "print(\"LightGBM Accuracy:\", accuracy_score(y_test, lgbm_preds))\n",
        "print(classification_report(y_test, lgbm_preds))\n",
        "\n",
        "print(\"CatBoost Accuracy:\", accuracy_score(y_test, cat_preds))\n",
        "print(classification_report(y_test, cat_preds))\n"
      ],
      "metadata": {
        "colab": {
          "base_uri": "https://localhost:8080/"
        },
        "id": "ABRX1q_ltrC4",
        "outputId": "2087cb10-f43b-46d7-d4df-01892a90f7a6"
      },
      "execution_count": null,
      "outputs": [
        {
          "output_type": "stream",
          "name": "stderr",
          "text": [
            "/usr/local/lib/python3.11/dist-packages/sklearn/utils/deprecation.py:151: FutureWarning: 'force_all_finite' was renamed to 'ensure_all_finite' in 1.6 and will be removed in 1.8.\n",
            "  warnings.warn(\n",
            "/usr/local/lib/python3.11/dist-packages/sklearn/utils/deprecation.py:151: FutureWarning: 'force_all_finite' was renamed to 'ensure_all_finite' in 1.6 and will be removed in 1.8.\n",
            "  warnings.warn(\n"
          ]
        },
        {
          "output_type": "stream",
          "name": "stdout",
          "text": [
            "[LightGBM] [Info] Number of positive: 1397, number of negative: 684\n",
            "[LightGBM] [Info] Auto-choosing col-wise multi-threading, the overhead of testing was 0.000195 seconds.\n",
            "You can set `force_col_wise=true` to remove the overhead.\n",
            "[LightGBM] [Info] Total Bins 1530\n",
            "[LightGBM] [Info] Number of data points in the train set: 2081, number of used features: 6\n",
            "[LightGBM] [Info] [binary:BoostFromScore]: pavg=0.671312 -> initscore=0.714124\n",
            "[LightGBM] [Info] Start training from score 0.714124\n",
            "XGBoost Accuracy: 0.6995677233429395\n",
            "              precision    recall  f1-score   support\n",
            "\n",
            "           0       0.56      0.38      0.45       456\n",
            "           1       0.74      0.86      0.79       932\n",
            "\n",
            "    accuracy                           0.70      1388\n",
            "   macro avg       0.65      0.62      0.62      1388\n",
            "weighted avg       0.68      0.70      0.68      1388\n",
            "\n",
            "LightGBM Accuracy: 0.7146974063400576\n",
            "              precision    recall  f1-score   support\n",
            "\n",
            "           0       0.65      0.29      0.40       456\n",
            "           1       0.73      0.92      0.81       932\n",
            "\n",
            "    accuracy                           0.71      1388\n",
            "   macro avg       0.69      0.60      0.60      1388\n",
            "weighted avg       0.70      0.71      0.68      1388\n",
            "\n",
            "CatBoost Accuracy: 0.7204610951008645\n",
            "              precision    recall  f1-score   support\n",
            "\n",
            "           0       0.65      0.32      0.43       456\n",
            "           1       0.73      0.92      0.82       932\n",
            "\n",
            "    accuracy                           0.72      1388\n",
            "   macro avg       0.69      0.62      0.62      1388\n",
            "weighted avg       0.71      0.72      0.69      1388\n",
            "\n"
          ]
        }
      ]
    },
    {
      "cell_type": "markdown",
      "source": [
        "Grid search after feature selection:"
      ],
      "metadata": {
        "id": "CiVy6LL2xpRs"
      }
    },
    {
      "cell_type": "code",
      "source": [
        "from sklearn.model_selection import GridSearchCV\n",
        "from xgboost import XGBClassifier\n",
        "\n",
        "# Bộ tham số cần thử\n",
        "param_grid = {\n",
        "    'n_estimators': [100, 200, 300],\n",
        "    'max_depth': [3, 5, 7],\n",
        "    'learning_rate': [0.01, 0.05, 0.1],\n",
        "    'subsample': [0.7, 0.8, 0.9],\n",
        "    'colsample_bytree': [0.7, 0.8, 0.9]\n",
        "}\n",
        "\n",
        "# Grid Search để tìm tham số tốt nhất\n",
        "xgb = XGBClassifier(random_state=42)\n",
        "grid_search = GridSearchCV(xgb, param_grid, cv=5, scoring='accuracy', n_jobs=-1)\n",
        "grid_search.fit(X_train, y_train)\n",
        "\n",
        "# Hiển thị kết quả tốt nhất\n",
        "print(\"Best XGBoost Parameters:\", grid_search.best_params_)\n",
        "print(\"Best XGBoost Accuracy:\", grid_search.best_score_)\n",
        "\n",
        "# predict\n",
        "grid_pred = grid_search.predict(X_test)\n",
        "print(classification_report(y_test, grid_pred))"
      ],
      "metadata": {
        "colab": {
          "base_uri": "https://localhost:8080/"
        },
        "id": "RuZWG8tNxa6j",
        "outputId": "12db3746-4c38-4a93-f28d-87e88bf2d8a3"
      },
      "execution_count": null,
      "outputs": [
        {
          "output_type": "stream",
          "name": "stdout",
          "text": [
            "Best XGBoost Parameters: {'colsample_bytree': 0.7, 'learning_rate': 0.01, 'max_depth': 3, 'n_estimators': 200, 'subsample': 0.8}\n",
            "Best XGBoost Accuracy: 0.7294583563918096\n",
            "              precision    recall  f1-score   support\n",
            "\n",
            "           0       0.66      0.27      0.38       456\n",
            "           1       0.72      0.93      0.81       932\n",
            "\n",
            "    accuracy                           0.71      1388\n",
            "   macro avg       0.69      0.60      0.60      1388\n",
            "weighted avg       0.70      0.71      0.67      1388\n",
            "\n"
          ]
        }
      ]
    },
    {
      "cell_type": "code",
      "source": [
        "# SVM\n",
        "from sklearn.svm import SVC\n",
        "import itertools\n",
        "\n",
        "regularization = [0.1, 1, 10, 100]\n",
        "gamma = ['scale', 'auto', 0.1, 1, 10]\n",
        "\n",
        "for c, g in itertools.product(regularization, gamma):\n",
        "    model = SVC(kernel='rbf', C=c, gamma=g)\n",
        "    model.fit(X_train, y_train)\n",
        "    svm_pred = model.predict(X_test)\n",
        "    print(f'Hyper-parameters: c={c}, gamma={g}')\n",
        "    print(classification_report(y_test, svm_pred))\n",
        "    print('\\n')"
      ],
      "metadata": {
        "colab": {
          "base_uri": "https://localhost:8080/"
        },
        "id": "zntaP0bj4asM",
        "outputId": "7bb07ca1-3fd2-4178-c3c1-0354a6528bec"
      },
      "execution_count": null,
      "outputs": [
        {
          "output_type": "stream",
          "name": "stdout",
          "text": [
            "Hyper-parameters: c=0.1, gamma=scale\n",
            "              precision    recall  f1-score   support\n",
            "\n",
            "           0       0.78      0.02      0.03       456\n",
            "           1       0.67      1.00      0.80       932\n",
            "\n",
            "    accuracy                           0.68      1388\n",
            "   macro avg       0.73      0.51      0.42      1388\n",
            "weighted avg       0.71      0.68      0.55      1388\n",
            "\n",
            "\n",
            "\n",
            "Hyper-parameters: c=0.1, gamma=auto\n",
            "              precision    recall  f1-score   support\n",
            "\n",
            "           0       0.78      0.02      0.03       456\n",
            "           1       0.67      1.00      0.80       932\n",
            "\n",
            "    accuracy                           0.68      1388\n",
            "   macro avg       0.73      0.51      0.42      1388\n",
            "weighted avg       0.71      0.68      0.55      1388\n",
            "\n",
            "\n",
            "\n",
            "Hyper-parameters: c=0.1, gamma=0.1\n",
            "              precision    recall  f1-score   support\n",
            "\n",
            "           0       0.78      0.04      0.08       456\n",
            "           1       0.68      0.99      0.81       932\n",
            "\n",
            "    accuracy                           0.68      1388\n",
            "   macro avg       0.73      0.52      0.44      1388\n",
            "weighted avg       0.71      0.68      0.57      1388\n",
            "\n",
            "\n",
            "\n",
            "Hyper-parameters: c=0.1, gamma=1\n",
            "              precision    recall  f1-score   support\n",
            "\n",
            "           0       0.65      0.11      0.19       456\n",
            "           1       0.69      0.97      0.81       932\n",
            "\n",
            "    accuracy                           0.69      1388\n",
            "   macro avg       0.67      0.54      0.50      1388\n",
            "weighted avg       0.68      0.69      0.60      1388\n",
            "\n",
            "\n",
            "\n",
            "Hyper-parameters: c=0.1, gamma=10\n",
            "              precision    recall  f1-score   support\n",
            "\n",
            "           0       0.00      0.00      0.00       456\n",
            "           1       0.67      1.00      0.80       932\n",
            "\n",
            "    accuracy                           0.67      1388\n",
            "   macro avg       0.34      0.50      0.40      1388\n",
            "weighted avg       0.45      0.67      0.54      1388\n",
            "\n",
            "\n",
            "\n"
          ]
        },
        {
          "output_type": "stream",
          "name": "stderr",
          "text": [
            "/usr/local/lib/python3.11/dist-packages/sklearn/metrics/_classification.py:1565: UndefinedMetricWarning: Precision is ill-defined and being set to 0.0 in labels with no predicted samples. Use `zero_division` parameter to control this behavior.\n",
            "  _warn_prf(average, modifier, f\"{metric.capitalize()} is\", len(result))\n",
            "/usr/local/lib/python3.11/dist-packages/sklearn/metrics/_classification.py:1565: UndefinedMetricWarning: Precision is ill-defined and being set to 0.0 in labels with no predicted samples. Use `zero_division` parameter to control this behavior.\n",
            "  _warn_prf(average, modifier, f\"{metric.capitalize()} is\", len(result))\n",
            "/usr/local/lib/python3.11/dist-packages/sklearn/metrics/_classification.py:1565: UndefinedMetricWarning: Precision is ill-defined and being set to 0.0 in labels with no predicted samples. Use `zero_division` parameter to control this behavior.\n",
            "  _warn_prf(average, modifier, f\"{metric.capitalize()} is\", len(result))\n"
          ]
        },
        {
          "output_type": "stream",
          "name": "stdout",
          "text": [
            "Hyper-parameters: c=1, gamma=scale\n",
            "              precision    recall  f1-score   support\n",
            "\n",
            "           0       0.69      0.28      0.40       456\n",
            "           1       0.73      0.94      0.82       932\n",
            "\n",
            "    accuracy                           0.72      1388\n",
            "   macro avg       0.71      0.61      0.61      1388\n",
            "weighted avg       0.72      0.72      0.68      1388\n",
            "\n",
            "\n",
            "\n",
            "Hyper-parameters: c=1, gamma=auto\n",
            "              precision    recall  f1-score   support\n",
            "\n",
            "           0       0.69      0.28      0.40       456\n",
            "           1       0.73      0.94      0.82       932\n",
            "\n",
            "    accuracy                           0.72      1388\n",
            "   macro avg       0.71      0.61      0.61      1388\n",
            "weighted avg       0.72      0.72      0.68      1388\n",
            "\n",
            "\n",
            "\n",
            "Hyper-parameters: c=1, gamma=0.1\n",
            "              precision    recall  f1-score   support\n",
            "\n",
            "           0       0.71      0.24      0.35       456\n",
            "           1       0.72      0.95      0.82       932\n",
            "\n",
            "    accuracy                           0.72      1388\n",
            "   macro avg       0.71      0.59      0.59      1388\n",
            "weighted avg       0.71      0.72      0.67      1388\n",
            "\n",
            "\n",
            "\n",
            "Hyper-parameters: c=1, gamma=1\n",
            "              precision    recall  f1-score   support\n",
            "\n",
            "           0       0.64      0.34      0.45       456\n",
            "           1       0.74      0.90      0.81       932\n",
            "\n",
            "    accuracy                           0.72      1388\n",
            "   macro avg       0.69      0.62      0.63      1388\n",
            "weighted avg       0.70      0.72      0.69      1388\n",
            "\n",
            "\n",
            "\n",
            "Hyper-parameters: c=1, gamma=10\n",
            "              precision    recall  f1-score   support\n",
            "\n",
            "           0       0.53      0.21      0.30       456\n",
            "           1       0.70      0.91      0.79       932\n",
            "\n",
            "    accuracy                           0.68      1388\n",
            "   macro avg       0.61      0.56      0.54      1388\n",
            "weighted avg       0.64      0.68      0.63      1388\n",
            "\n",
            "\n",
            "\n",
            "Hyper-parameters: c=10, gamma=scale\n",
            "              precision    recall  f1-score   support\n",
            "\n",
            "           0       0.67      0.32      0.44       456\n",
            "           1       0.74      0.92      0.82       932\n",
            "\n",
            "    accuracy                           0.72      1388\n",
            "   macro avg       0.70      0.62      0.63      1388\n",
            "weighted avg       0.71      0.72      0.69      1388\n",
            "\n",
            "\n",
            "\n",
            "Hyper-parameters: c=10, gamma=auto\n",
            "              precision    recall  f1-score   support\n",
            "\n",
            "           0       0.66      0.33      0.44       456\n",
            "           1       0.74      0.92      0.82       932\n",
            "\n",
            "    accuracy                           0.72      1388\n",
            "   macro avg       0.70      0.62      0.63      1388\n",
            "weighted avg       0.71      0.72      0.69      1388\n",
            "\n",
            "\n",
            "\n",
            "Hyper-parameters: c=10, gamma=0.1\n",
            "              precision    recall  f1-score   support\n",
            "\n",
            "           0       0.67      0.30      0.42       456\n",
            "           1       0.73      0.93      0.82       932\n",
            "\n",
            "    accuracy                           0.72      1388\n",
            "   macro avg       0.70      0.62      0.62      1388\n",
            "weighted avg       0.71      0.72      0.69      1388\n",
            "\n",
            "\n",
            "\n",
            "Hyper-parameters: c=10, gamma=1\n",
            "              precision    recall  f1-score   support\n",
            "\n",
            "           0       0.57      0.41      0.48       456\n",
            "           1       0.75      0.85      0.79       932\n",
            "\n",
            "    accuracy                           0.71      1388\n",
            "   macro avg       0.66      0.63      0.64      1388\n",
            "weighted avg       0.69      0.71      0.69      1388\n",
            "\n",
            "\n",
            "\n",
            "Hyper-parameters: c=10, gamma=10\n",
            "              precision    recall  f1-score   support\n",
            "\n",
            "           0       0.42      0.28      0.34       456\n",
            "           1       0.70      0.81      0.75       932\n",
            "\n",
            "    accuracy                           0.64      1388\n",
            "   macro avg       0.56      0.55      0.54      1388\n",
            "weighted avg       0.61      0.64      0.61      1388\n",
            "\n",
            "\n",
            "\n",
            "Hyper-parameters: c=100, gamma=scale\n",
            "              precision    recall  f1-score   support\n",
            "\n",
            "           0       0.64      0.38      0.47       456\n",
            "           1       0.75      0.90      0.81       932\n",
            "\n",
            "    accuracy                           0.73      1388\n",
            "   macro avg       0.69      0.64      0.64      1388\n",
            "weighted avg       0.71      0.73      0.70      1388\n",
            "\n",
            "\n",
            "\n",
            "Hyper-parameters: c=100, gamma=auto\n",
            "              precision    recall  f1-score   support\n",
            "\n",
            "           0       0.64      0.37      0.47       456\n",
            "           1       0.74      0.90      0.81       932\n",
            "\n",
            "    accuracy                           0.72      1388\n",
            "   macro avg       0.69      0.63      0.64      1388\n",
            "weighted avg       0.71      0.72      0.70      1388\n",
            "\n",
            "\n",
            "\n",
            "Hyper-parameters: c=100, gamma=0.1\n",
            "              precision    recall  f1-score   support\n",
            "\n",
            "           0       0.66      0.34      0.45       456\n",
            "           1       0.74      0.91      0.82       932\n",
            "\n",
            "    accuracy                           0.73      1388\n",
            "   macro avg       0.70      0.63      0.63      1388\n",
            "weighted avg       0.71      0.73      0.70      1388\n",
            "\n",
            "\n",
            "\n",
            "Hyper-parameters: c=100, gamma=1\n",
            "              precision    recall  f1-score   support\n",
            "\n",
            "           0       0.49      0.46      0.47       456\n",
            "           1       0.74      0.77      0.76       932\n",
            "\n",
            "    accuracy                           0.67      1388\n",
            "   macro avg       0.62      0.61      0.61      1388\n",
            "weighted avg       0.66      0.67      0.66      1388\n",
            "\n",
            "\n",
            "\n",
            "Hyper-parameters: c=100, gamma=10\n",
            "              precision    recall  f1-score   support\n",
            "\n",
            "           0       0.42      0.28      0.34       456\n",
            "           1       0.70      0.81      0.75       932\n",
            "\n",
            "    accuracy                           0.64      1388\n",
            "   macro avg       0.56      0.55      0.54      1388\n",
            "weighted avg       0.61      0.64      0.61      1388\n",
            "\n",
            "\n",
            "\n"
          ]
        }
      ]
    },
    {
      "cell_type": "markdown",
      "source": [
        "## Đặc trưng 2: Nhân có khía, chạy dọc/ngang, một phần hoặc toàn bộ nhân"
      ],
      "metadata": {
        "id": "VNPPkhrcBT2m"
      }
    },
    {
      "cell_type": "code",
      "source": [
        "import os\n",
        "import cv2\n",
        "import numpy as np\n",
        "import pandas as pd\n",
        "from scipy.fftpack import fft2, fftshift\n",
        "from sklearn.model_selection import train_test_split\n",
        "from sklearn.preprocessing import StandardScaler\n",
        "from sklearn.ensemble import RandomForestClassifier\n",
        "from sklearn.metrics import accuracy_score, classification_report\n",
        "import joblib\n",
        "\n",
        "# Định nghĩa thư mục chứa ảnh & file nhãn\n",
        "image_folder = \"/content/drive/MyDrive/Cell_Prediction/images/images\"\n",
        "labels_file = \"/content/drive/MyDrive/Cell_Prediction/images/labels.json\"\n",
        "\n",
        "# Đọc nhãn từ file JSON\n",
        "import json\n",
        "with open(labels_file, 'r') as f:\n",
        "    labels_dict = json.load(f)\n",
        "\n",
        "# Hàm tính toán đặc trưng\n",
        "def detect_edges(img):\n",
        "    edges = cv2.Canny(img, 50, 150)\n",
        "    return np.sum(edges) / (img.shape[0] * img.shape[1])\n",
        "\n",
        "def detect_texture_fft(img):\n",
        "    f_transform = np.log(np.abs(fftshift(fft2(img))) + 1)\n",
        "    return np.mean(f_transform)\n",
        "\n",
        "#  Tính đặc trưng cho tất cả ảnh\n",
        "data = []\n",
        "for filename in os.listdir(image_folder):\n",
        "    if filename.endswith('.jpg'):\n",
        "        image_path = os.path.join(image_folder, filename)\n",
        "        img = cv2.imread(image_path, cv2.IMREAD_GRAYSCALE)\n",
        "        if img is None:\n",
        "            continue\n",
        "\n",
        "        # Tính toán đặc trưng\n",
        "        edge_density = detect_edges(img)\n",
        "        texture_value = detect_texture_fft(img)\n",
        "\n",
        "        # Lấy nhãn từ labels.json\n",
        "        filename_no_ext = os.path.splitext(filename)[0]\n",
        "        label = labels_dict.get(filename_no_ext, None)\n",
        "        if label is None:\n",
        "            continue\n",
        "\n",
        "        # Lưu vào danh sách\n",
        "        data.append([filename, edge_density, texture_value] + [label[1]])  # Label_2\n",
        "\n",
        "# Lưu vào file Excel\n",
        "columns = [\"Filename\", \"Edge Density\", \"FFT Texture\", \"Label_2\"]\n",
        "df = pd.DataFrame(data, columns=columns)\n",
        "excel_path = \"/content/drive/MyDrive/Cell_Prediction/nucleus_texture_features.xlsx\"\n",
        "df.to_excel(excel_path, index=False)\n",
        "\n",
        "print(f\"Đã lưu đặc trưng vào: {excel_path}\")\n",
        "\n"
      ],
      "metadata": {
        "colab": {
          "base_uri": "https://localhost:8080/"
        },
        "id": "t_7yQed8BSXc",
        "outputId": "d16d2873-aa8b-48e3-aa7b-080c802351f7"
      },
      "execution_count": null,
      "outputs": [
        {
          "output_type": "stream",
          "name": "stdout",
          "text": [
            "✅ Đã lưu đặc trưng vào: /content/drive/MyDrive/Cell_Prediction/nucleus_texture_features.xlsx\n"
          ]
        }
      ]
    },
    {
      "cell_type": "code",
      "source": [
        "import pandas as pd\n",
        "import numpy as np\n",
        "from sklearn.model_selection import train_test_split\n",
        "from sklearn.preprocessing import StandardScaler\n",
        "from xgboost import XGBClassifier\n",
        "from lightgbm import LGBMClassifier\n",
        "from catboost import CatBoostClassifier\n",
        "from sklearn.metrics import accuracy_score, classification_report\n",
        "import joblib\n",
        "\n",
        "# Đọc dữ liệu từ file Excel\n",
        "file_path = \"/content/drive/MyDrive/Cell_Prediction/nucleus_texture_features.xlsx\"\n",
        "df = pd.read_excel(file_path)\n",
        "\n",
        "# Tiền xử lý dữ liệu\n",
        "X = df[[\"Edge Density\", \"FFT Texture\"]].values  # Đặc trưng\n",
        "y = df[\"Label_2\"].values  # Nhãn cần dự đoán\n",
        "\n",
        "# Chuẩn hóa dữ liệu\n",
        "scaler = StandardScaler()\n",
        "X_scaled = scaler.fit_transform(X)\n",
        "\n",
        "# Chia tập train (80%) và test (20%)\n",
        "X_train, X_test, y_train, y_test = train_test_split(X_scaled, y, test_size=0.4, random_state=42, stratify=y)\n",
        "\n",
        "# Huấn luyện các mô hình mạnh hơn\n",
        "\n",
        "# Model 1: XGBoost (thêm scale_pos_weight để cân bằng dữ liệu)\n",
        "imbalance_ratio = np.bincount(y_train)[1] / np.bincount(y_train)[0]\n",
        "xgb_model = XGBClassifier(n_estimators=200, learning_rate=0.05, scale_pos_weight=imbalance_ratio, random_state=42)\n",
        "xgb_model.fit(X_train, y_train)\n",
        "xgb_preds = xgb_model.predict(X_test)\n",
        "\n",
        "# Model 2: LightGBM (class_weight='balanced')\n",
        "lgbm_model = LGBMClassifier(n_estimators=200, learning_rate=0.05, class_weight='balanced', random_state=42)\n",
        "lgbm_model.fit(X_train, y_train)\n",
        "lgbm_preds = lgbm_model.predict(X_test)\n",
        "\n",
        "# Model 3: CatBoost (class_weights để cân bằng dữ liệu)\n",
        "cat_model = CatBoostClassifier(iterations=200, learning_rate=0.05, depth=6, class_weights=[1, imbalance_ratio], random_seed=42, verbose=0)\n",
        "cat_model.fit(X_train, y_train)\n",
        "cat_preds = cat_model.predict(X_test)\n",
        "\n",
        "# Đánh giá mô hình\n",
        "print(\"XGBoost Accuracy:\", accuracy_score(y_test, xgb_preds))\n",
        "print(classification_report(y_test, xgb_preds))\n",
        "\n",
        "print(\"LightGBM Accuracy:\", accuracy_score(y_test, lgbm_preds))\n",
        "print(classification_report(y_test, lgbm_preds))\n",
        "\n",
        "print(\"CatBoost Accuracy:\", accuracy_score(y_test, cat_preds))\n",
        "print(classification_report(y_test, cat_preds))\n",
        "\n",
        "# Lưu mô hình để sử dụng sau\n",
        "joblib.dump(xgb_model, \"/content/drive/MyDrive/Cell_Prediction/xgboost_label2.pkl\")\n",
        "joblib.dump(lgbm_model, \"/content/drive/MyDrive/Cell_Prediction/lightgbm_label2.pkl\")\n",
        "joblib.dump(cat_model, \"/content/drive/MyDrive/Cell_Prediction/catboost_label2.pkl\")\n",
        "\n",
        "print(\"Mô hình đã lưu thành công!\")\n"
      ],
      "metadata": {
        "colab": {
          "base_uri": "https://localhost:8080/"
        },
        "id": "LVTOQyCPBaNY",
        "outputId": "4a08b6df-26a9-466b-b0d7-994e4122115d"
      },
      "execution_count": null,
      "outputs": [
        {
          "output_type": "stream",
          "name": "stderr",
          "text": [
            "/usr/local/lib/python3.11/dist-packages/sklearn/utils/deprecation.py:151: FutureWarning: 'force_all_finite' was renamed to 'ensure_all_finite' in 1.6 and will be removed in 1.8.\n",
            "  warnings.warn(\n",
            "/usr/local/lib/python3.11/dist-packages/sklearn/utils/deprecation.py:151: FutureWarning: 'force_all_finite' was renamed to 'ensure_all_finite' in 1.6 and will be removed in 1.8.\n",
            "  warnings.warn(\n"
          ]
        },
        {
          "output_type": "stream",
          "name": "stdout",
          "text": [
            "[LightGBM] [Info] Number of positive: 1112, number of negative: 782\n",
            "[LightGBM] [Info] Auto-choosing col-wise multi-threading, the overhead of testing was 0.000079 seconds.\n",
            "You can set `force_col_wise=true` to remove the overhead.\n",
            "[LightGBM] [Info] Total Bins 510\n",
            "[LightGBM] [Info] Number of data points in the train set: 1894, number of used features: 2\n",
            "[LightGBM] [Info] [binary:BoostFromScore]: pavg=0.500000 -> initscore=-0.000000\n",
            "[LightGBM] [Info] Start training from score -0.000000\n",
            "🔹 XGBoost Accuracy: 0.5969912905779889\n",
            "              precision    recall  f1-score   support\n",
            "\n",
            "           0       0.53      0.23      0.32       521\n",
            "           1       0.61      0.86      0.71       742\n",
            "\n",
            "    accuracy                           0.60      1263\n",
            "   macro avg       0.57      0.54      0.52      1263\n",
            "weighted avg       0.58      0.60      0.55      1263\n",
            "\n",
            "🔹 LightGBM Accuracy: 0.5423594615993665\n",
            "              precision    recall  f1-score   support\n",
            "\n",
            "           0       0.45      0.53      0.49       521\n",
            "           1       0.63      0.55      0.59       742\n",
            "\n",
            "    accuracy                           0.54      1263\n",
            "   macro avg       0.54      0.54      0.54      1263\n",
            "weighted avg       0.55      0.54      0.55      1263\n",
            "\n",
            "🔹 CatBoost Accuracy: 0.6167854315122724\n",
            "              precision    recall  f1-score   support\n",
            "\n",
            "           0       0.60      0.21      0.31       521\n",
            "           1       0.62      0.90      0.73       742\n",
            "\n",
            "    accuracy                           0.62      1263\n",
            "   macro avg       0.61      0.56      0.52      1263\n",
            "weighted avg       0.61      0.62      0.56      1263\n",
            "\n",
            "✅ Mô hình đã lưu thành công!\n"
          ]
        }
      ]
    },
    {
      "cell_type": "markdown",
      "source": [],
      "metadata": {
        "id": "HAnz0qCU-Yyl"
      }
    },
    {
      "cell_type": "markdown",
      "source": [
        "## Đặc trưng 3: có thể vùi tron nhân:"
      ],
      "metadata": {
        "id": "OErC7bcsG6ul"
      }
    },
    {
      "cell_type": "code",
      "source": [
        "!pip install -q catboost"
      ],
      "metadata": {
        "colab": {
          "base_uri": "https://localhost:8080/"
        },
        "id": "ZRy1GfQzSCTt",
        "outputId": "09f32a94-3c69-436a-f9ee-92b78f17bcff"
      },
      "execution_count": 5,
      "outputs": [
        {
          "output_type": "stream",
          "name": "stdout",
          "text": [
            "\u001b[2K   \u001b[90m━━━━━━━━━━━━━━━━━━━━━━━━━━━━━━━━━━━━━━━━\u001b[0m \u001b[32m98.7/98.7 MB\u001b[0m \u001b[31m9.4 MB/s\u001b[0m eta \u001b[36m0:00:00\u001b[0m\n",
            "\u001b[?25h"
          ]
        }
      ]
    },
    {
      "cell_type": "code",
      "source": [
        "import os\n",
        "import cv2\n",
        "import numpy as np\n",
        "import pandas as pd\n",
        "from scipy.fftpack import fft2, fftshift\n",
        "from sklearn.model_selection import train_test_split\n",
        "from sklearn.preprocessing import StandardScaler\n",
        "from xgboost import XGBClassifier\n",
        "from lightgbm import LGBMClassifier\n",
        "from catboost import CatBoostClassifier\n",
        "from sklearn.metrics import accuracy_score, classification_report\n",
        "import joblib\n",
        "import json\n",
        "\n",
        "# Định nghĩa thư mục chứa ảnh & file nhãn\n",
        "image_folder = \"/content/image_with_points/\"\n",
        "labels_file = \"/content/image_with_points/labels.json\"\n",
        "\n",
        "# Đọc nhãn từ file JSON\n",
        "with open(labels_file, 'r') as f:\n",
        "    labels_dict = json.load(f)\n",
        "\n",
        "# Hàm tính toán đặc trưng\n",
        "\n",
        "def detect_pseudoinclusion(img):\n",
        "    \"\"\"\n",
        "    Phương pháp 1: Adaptive Thresholding - Phát hiện các vùng vùi trong nhân\n",
        "    \"\"\"\n",
        "    adaptive_thresh = cv2.adaptiveThreshold(img, 255, cv2.ADAPTIVE_THRESH_GAUSSIAN_C,\n",
        "                                            cv2.THRESH_BINARY_INV, 15, 5)\n",
        "    contours, _ = cv2.findContours(adaptive_thresh, cv2.RETR_EXTERNAL, cv2.CHAIN_APPROX_SIMPLE)\n",
        "    return len(contours)  # Số vùng nhỏ bên trong nhân\n",
        "\n",
        "def detect_watershed_regions(img):\n",
        "    \"\"\"\n",
        "    Sử dụng Watershed Segmentation để phát hiện số vùng nhỏ trong nhân.\n",
        "    \"\"\"\n",
        "    blurred = cv2.GaussianBlur(img, (5, 5), 0)\n",
        "    _, thresh = cv2.threshold(blurred, 0, 255, cv2.THRESH_BINARY + cv2.THRESH_OTSU)\n",
        "\n",
        "    kernel = np.ones((3, 3), np.uint8)\n",
        "    sure_bg = cv2.dilate(thresh, kernel, iterations=2)\n",
        "    dist_transform = cv2.distanceTransform(thresh, cv2.DIST_L2, 5)\n",
        "    _, sure_fg = cv2.threshold(dist_transform, 0.5 * dist_transform.max(), 255, 0)\n",
        "\n",
        "    # Chuyển sure_fg về uint8 để tránh lỗi subtract\n",
        "    sure_fg = np.uint8(sure_fg)\n",
        "\n",
        "    # Sửa lỗi khi trừ hai ma trận kiểu khác nhau\n",
        "    unknown = cv2.subtract(sure_bg, sure_fg)\n",
        "\n",
        "    # Tạo marker để phân vùng Watershed\n",
        "    _, markers = cv2.connectedComponents(sure_fg)\n",
        "    markers += 1\n",
        "    markers[unknown == 255] = 0\n",
        "\n",
        "    # Áp dụng Watershed\n",
        "    img_color = cv2.cvtColor(img, cv2.COLOR_GRAY2BGR)\n",
        "    cv2.watershed(img_color, markers)\n",
        "\n",
        "    # Đếm số vùng trong nhân (sau Watershed)\n",
        "    num_regions = len(np.unique(markers)) - 2  # Trừ background & nhân chính\n",
        "\n",
        "    return num_regions\n",
        "\n",
        "\n",
        "def detect_histogram_peaks(img):\n",
        "    \"\"\"\n",
        "    Phương pháp 3: Histogram Peaks Analysis - Đếm số lượng đỉnh trong histogram\n",
        "    \"\"\"\n",
        "    hist = cv2.calcHist([img], [0], None, [256], [0, 256])\n",
        "    hist = hist.flatten()\n",
        "    return np.count_nonzero((hist[1:-1] > hist[:-2]) & (hist[1:-1] > hist[2:]))\n",
        "\n",
        "# Tính đặc trưng cho tất cả ảnh\n",
        "data = []\n",
        "for filename in os.listdir(image_folder):\n",
        "    if filename.endswith('.jpg'):\n",
        "        image_path = os.path.join(image_folder, filename)\n",
        "        img = cv2.imread(image_path, cv2.IMREAD_GRAYSCALE)\n",
        "        if img is None:\n",
        "            continue\n",
        "\n",
        "        # Tính toán đặc trưng\n",
        "        pseudoinclusion_value = detect_pseudoinclusion(img)\n",
        "        watershed_value = detect_watershed_regions(img)\n",
        "        histogram_peaks = detect_histogram_peaks(img)\n",
        "\n",
        "        # Lấy nhãn từ labels.json\n",
        "        filename_no_ext = os.path.splitext(filename)[0]\n",
        "        label = labels_dict.get(filename_no_ext, None)\n",
        "        if label is None:\n",
        "            continue\n",
        "        else:\n",
        "          label = label.get('label', None)\n",
        "\n",
        "        # Lưu vào danh sách\n",
        "        data.append([filename, pseudoinclusion_value, watershed_value, histogram_peaks] + [label[2]])  # Label_3\n",
        "\n",
        "# Lưu vào file Excel\n",
        "columns = [\"Filename\", \"Pseudoinclusion Count\", \"Watershed Region Count\", \"Histogram Peaks Count\", \"Label_3\"]\n",
        "df = pd.DataFrame(data, columns=columns)\n",
        "excel_path = \"/content/nucleus_pseudoinclusion_features.xlsx\"\n",
        "df.to_excel(excel_path, index=False)\n",
        "\n",
        "print(f\"Đã lưu đặc trưng vào: {excel_path}\")\n",
        "\n",
        "# Đọc dữ liệu từ file Excel\n",
        "df = pd.read_excel(excel_path)\n",
        "\n",
        "# Tiền xử lý dữ liệu\n",
        "X = df[[\"Pseudoinclusion Count\", \"Watershed Region Count\", \"Histogram Peaks Count\"]].values\n",
        "y = df[\"Label_3\"].values  # Nhãn cần dự đoán\n",
        "\n",
        "scaler = StandardScaler()\n",
        "X_scaled = scaler.fit_transform(X)\n",
        "\n",
        "X_train, X_test, y_train, y_test = train_test_split(X_scaled, y, test_size=0.2, random_state=42, stratify=y)\n",
        "\n",
        "# Huấn luyện mô hình\n",
        "\n",
        "# Model 1: XGBoost (thêm scale_pos_weight để cân bằng dữ liệu)\n",
        "imbalance_ratio = np.bincount(y_train)[1] / np.bincount(y_train)[0]\n",
        "xgb_model = XGBClassifier(n_estimators=200, learning_rate=0.05, scale_pos_weight=imbalance_ratio, random_state=42)\n",
        "xgb_model.fit(X_train, y_train)\n",
        "xgb_preds = xgb_model.predict(X_test)\n",
        "\n",
        "# Model 2: LightGBM (class_weight='balanced')\n",
        "lgbm_model = LGBMClassifier(n_estimators=200, learning_rate=0.05, class_weight='balanced', random_state=42)\n",
        "lgbm_model.fit(X_train, y_train)\n",
        "lgbm_preds = lgbm_model.predict(X_test)\n",
        "\n",
        "# Model 3: CatBoost (class_weights để cân bằng dữ liệu)\n",
        "cat_model = CatBoostClassifier(iterations=200, learning_rate=0.05, depth=6, class_weights=[1, imbalance_ratio], random_seed=42, verbose=0)\n",
        "cat_model.fit(X_train, y_train)\n",
        "cat_preds = cat_model.predict(X_test)\n",
        "\n",
        "# Đánh giá mô hình\n",
        "print(\"XGBoost Accuracy:\", accuracy_score(y_test, xgb_preds))\n",
        "print(classification_report(y_test, xgb_preds))\n",
        "\n",
        "print(\"LightGBM Accuracy:\", accuracy_score(y_test, lgbm_preds))\n",
        "print(classification_report(y_test, lgbm_preds))\n",
        "\n",
        "print(\"CatBoost Accuracy:\", accuracy_score(y_test, cat_preds))\n",
        "print(classification_report(y_test, cat_preds))\n",
        "\n",
        "# 📂 7️⃣ Lưu mô hình để sử dụng sau\n",
        "joblib.dump(xgb_model, \"/content/xgboost_label3.pkl\")\n",
        "joblib.dump(lgbm_model, \"/content/lightgbm_label3.pkl\")\n",
        "joblib.dump(cat_model, \"/content/catboost_label3.pkl\")\n",
        "\n",
        "print(\"Mô hình đã lưu thành công!\")\n"
      ],
      "metadata": {
        "colab": {
          "base_uri": "https://localhost:8080/"
        },
        "id": "SFlkEl7LG-Tm",
        "outputId": "13846810-3e83-4023-c0c5-9831bc6ef8d1"
      },
      "execution_count": 7,
      "outputs": [
        {
          "output_type": "stream",
          "name": "stdout",
          "text": [
            "Đã lưu đặc trưng vào: /content/nucleus_pseudoinclusion_features.xlsx\n"
          ]
        },
        {
          "output_type": "stream",
          "name": "stderr",
          "text": [
            "/usr/local/lib/python3.11/dist-packages/sklearn/utils/deprecation.py:151: FutureWarning: 'force_all_finite' was renamed to 'ensure_all_finite' in 1.6 and will be removed in 1.8.\n",
            "  warnings.warn(\n",
            "/usr/local/lib/python3.11/dist-packages/sklearn/utils/deprecation.py:151: FutureWarning: 'force_all_finite' was renamed to 'ensure_all_finite' in 1.6 and will be removed in 1.8.\n",
            "  warnings.warn(\n"
          ]
        },
        {
          "output_type": "stream",
          "name": "stdout",
          "text": [
            "[LightGBM] [Info] Number of positive: 1619, number of negative: 1156\n",
            "[LightGBM] [Info] Auto-choosing row-wise multi-threading, the overhead of testing was 0.000978 seconds.\n",
            "You can set `force_row_wise=true` to remove the overhead.\n",
            "And if memory is not enough, you can set `force_col_wise=true`.\n",
            "[LightGBM] [Info] Total Bins 127\n",
            "[LightGBM] [Info] Number of data points in the train set: 2775, number of used features: 3\n",
            "[LightGBM] [Info] [binary:BoostFromScore]: pavg=0.500000 -> initscore=-0.000000\n",
            "[LightGBM] [Info] Start training from score -0.000000\n",
            "XGBoost Accuracy: 0.5619596541786743\n",
            "              precision    recall  f1-score   support\n",
            "\n",
            "           0       0.32      0.04      0.08       289\n",
            "           1       0.58      0.93      0.71       405\n",
            "\n",
            "    accuracy                           0.56       694\n",
            "   macro avg       0.45      0.49      0.40       694\n",
            "weighted avg       0.47      0.56      0.45       694\n",
            "\n",
            "LightGBM Accuracy: 0.4956772334293948\n",
            "              precision    recall  f1-score   support\n",
            "\n",
            "           0       0.42      0.53      0.47       289\n",
            "           1       0.58      0.47      0.52       405\n",
            "\n",
            "    accuracy                           0.50       694\n",
            "   macro avg       0.50      0.50      0.49       694\n",
            "weighted avg       0.51      0.50      0.50       694\n",
            "\n",
            "CatBoost Accuracy: 0.5835734870317003\n",
            "              precision    recall  f1-score   support\n",
            "\n",
            "           0       0.50      0.02      0.04       289\n",
            "           1       0.59      0.99      0.73       405\n",
            "\n",
            "    accuracy                           0.58       694\n",
            "   macro avg       0.54      0.50      0.39       694\n",
            "weighted avg       0.55      0.58      0.45       694\n",
            "\n",
            "Mô hình đã lưu thành công!\n"
          ]
        }
      ]
    },
    {
      "cell_type": "markdown",
      "source": [
        "#### Deep learning approach:"
      ],
      "metadata": {
        "id": "-o-6Iv_CmSdM"
      }
    },
    {
      "cell_type": "code",
      "source": [
        "!git clone https://github.com/KerenLab/CellSighter.git"
      ],
      "metadata": {
        "colab": {
          "base_uri": "https://localhost:8080/"
        },
        "id": "xtcdHr_OmR2_",
        "outputId": "3a296d41-c5ed-448b-b31b-67a62ad46a21"
      },
      "execution_count": 8,
      "outputs": [
        {
          "output_type": "stream",
          "name": "stdout",
          "text": [
            "Cloning into 'CellSighter'...\n",
            "remote: Enumerating objects: 74, done.\u001b[K\n",
            "remote: Counting objects: 100% (25/25), done.\u001b[K\n",
            "remote: Compressing objects: 100% (12/12), done.\u001b[K\n",
            "remote: Total 74 (delta 18), reused 13 (delta 13), pack-reused 49 (from 1)\u001b[K\n",
            "Receiving objects: 100% (74/74), 273.42 KiB | 2.65 MiB/s, done.\n",
            "Resolving deltas: 100% (31/31), done.\n"
          ]
        }
      ]
    },
    {
      "cell_type": "markdown",
      "source": [
        "Model:"
      ],
      "metadata": {
        "id": "bRGaNnX9nxrX"
      }
    },
    {
      "cell_type": "code",
      "source": [
        "from torchvision import models as models\n",
        "import torch\n",
        "from torch import nn\n",
        "\n",
        "\n",
        "class Model(nn.Module):\n",
        "    def __init__(self, input_len, num_classes):\n",
        "        super(Model, self).__init__()\n",
        "        self.model = models.resnet50(num_classes=num_classes)\n",
        "        self.model.conv1 = torch.nn.Conv2d(input_len, 64, kernel_size=(7, 7), stride=(2, 2), padding=(3, 3), bias=False)\n",
        "\n",
        "        ##Weights init\n",
        "        nn.init.kaiming_normal_(self.model.conv1.weight, mode='fan_out', nonlinearity='relu')\n",
        "\n",
        "        self.softmax = nn.Softmax(dim=1)\n",
        "\n",
        "    def forward(self, x):\n",
        "        x = self.model(x)\n",
        "        if not self.training:\n",
        "            x = self.softmax(x)\n",
        "        return x"
      ],
      "metadata": {
        "id": "epmYJbWsmf3-"
      },
      "execution_count": 9,
      "outputs": []
    },
    {
      "cell_type": "code",
      "source": [
        "!git clone https://github.com/Kizza2014/thyroid_cell_prediction_on_he_images.git"
      ],
      "metadata": {
        "colab": {
          "base_uri": "https://localhost:8080/"
        },
        "id": "JfPN7UPupjvI",
        "outputId": "ca8d1a98-7fdf-4585-8364-01e421bb6913"
      },
      "execution_count": 12,
      "outputs": [
        {
          "output_type": "stream",
          "name": "stdout",
          "text": [
            "Cloning into 'thyroid_cell_prediction_on_he_images'...\n",
            "remote: Enumerating objects: 4, done.\u001b[K\n",
            "remote: Counting objects: 100% (4/4), done.\u001b[K\n",
            "remote: Compressing objects: 100% (3/3), done.\u001b[K\n",
            "remote: Total 4 (delta 0), reused 0 (delta 0), pack-reused 0 (from 0)\u001b[K\n",
            "Receiving objects: 100% (4/4), 4.79 KiB | 4.79 MiB/s, done.\n"
          ]
        }
      ]
    }
  ]
}